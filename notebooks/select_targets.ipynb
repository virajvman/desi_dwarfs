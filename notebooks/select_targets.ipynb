{
 "cells": [
  {
   "cell_type": "code",
   "execution_count": 88,
   "id": "ff35b332-cee7-42b2-aad0-9c3e43492cd2",
   "metadata": {},
   "outputs": [],
   "source": [
    "import os\n",
    "import sys\n",
    "\n",
    "import numpy as np\n",
    "from tqdm import trange\n",
    "from astropy.io import fits\n",
    "from astropy.table import Table, vstack\n",
    "from astropy.convolution import convolve, Gaussian1DKernel\n",
    "import astropy.units as u\n",
    "import astropy.coordinates as coord\n",
    "import matplotlib\n",
    "import matplotlib.pyplot as plt\n",
    "from astropy.table import Column\n",
    "from tqdm import trange\n",
    "import pandas as pd\n",
    "import fitsio\n",
    "from astropy.table import Table, vstack\n",
    "from astropy import units as u\n",
    "from astropy.coordinates import SkyCoord\n",
    "from easyquery import Query, QueryMaker\n",
    "from scipy.stats import binomtest\n",
    "import matplotlib.pyplot as plt\n",
    "import matplotlib as mpl\n",
    "from matplotlib.colors import LogNorm\n",
    "from matplotlib.colors import ListedColormap, BoundaryNorm\n",
    "import h5py\n",
    "from astropy.cosmology import Planck18\n",
    "\n",
    "mpl.rcParams['font.family'] = 'serif'\n",
    "mpl.rcParams['axes.linewidth'] = 1.5\n",
    "mpl.rcParams['axes.xmargin'] = 1\n",
    "mpl.rcParams['xtick.labelsize'] = 'x-large'\n",
    "mpl.rcParams['xtick.major.size'] = 5\n",
    "mpl.rcParams['xtick.major.width'] = 1.5\n",
    "mpl.rcParams['ytick.labelsize'] = 'x-large'\n",
    "mpl.rcParams['ytick.major.size'] = 5\n",
    "mpl.rcParams['ytick.major.width'] = 1.5\n",
    "mpl.rcParams['legend.frameon'] = False\n",
    "\n",
    "rootdir = '/global/u1/v/virajvm/'\n",
    "sys.path.append(os.path.join(rootdir, 'DESI2_LOWZ/desi_dwarfs/code'))\n",
    "\n",
    "from desi_lowz_funcs import make_subplots"
   ]
  },
  {
   "cell_type": "code",
   "execution_count": 87,
   "id": "7752ac29-6a6a-4b84-afba-1f5647de4664",
   "metadata": {},
   "outputs": [
    {
     "name": "stdout",
     "output_type": "stream",
     "text": [
      "Total number = 379185\n"
     ]
    }
   ],
   "source": [
    "# clean_cat = Table.read(\"/pscratch/sd/v/virajvm/catalog_dr1_dwarfs/desi_y1_dwarf_clean_catalog_v4.fits\")\n",
    "# #subselect:\n",
    "\n",
    "# print(f\"Total number = {len(clean_cat)}\")\n",
    "\n",
    "# ## we select the first 10k clean objects in each sample\n",
    "# clean_lowz = clean_cat[clean_cat[\"SAMPLE\"] == \"LOWZ\"][:10000]\n",
    "# clean_elg = clean_cat[clean_cat[\"SAMPLE\"] == \"ELG\"][:10000]\n",
    "# clean_bgsb = clean_cat[clean_cat[\"SAMPLE\"] == \"BGS_BRIGHT\"][:10000]\n",
    "# clean_bgsf = clean_cat[clean_cat[\"SAMPLE\"] == \"BGS_FAINT\"][:10000]\n",
    "\n",
    "# #let us save this as one clean cat\n",
    "# clean_cat_sub = vstack([ clean_bgsb, clean_bgsf, clean_lowz, clean_elg ])\n",
    "\n",
    "# clean_cat_sub.write(\"/pscratch/sd/v/virajvm/catalog_dr1_dwarfs/desi_y1_dwarf_clean_catalog_v4_RUN_W_APER.fits\", overwrite=True)\n"
   ]
  },
  {
   "cell_type": "code",
   "execution_count": 89,
   "id": "ade52e6b-a615-4df7-ad08-485ac8a84e23",
   "metadata": {},
   "outputs": [],
   "source": [
    "dwarf_cat = Table.read(\"/pscratch/sd/v/virajvm/catalog_dr1_dwarfs/iron_sga_matched_dwarfs.fits\")"
   ]
  },
  {
   "cell_type": "code",
   "execution_count": null,
   "id": "b296d450-a00c-446e-96b2-2f27c3ef9600",
   "metadata": {},
   "outputs": [],
   "source": []
  },
  {
   "cell_type": "code",
   "execution_count": 59,
   "id": "7848637c-58ba-49ff-a87d-be89aa2c7861",
   "metadata": {},
   "outputs": [
    {
     "name": "stdout",
     "output_type": "stream",
     "text": [
      "40457\n"
     ]
    }
   ],
   "source": [
    "import glob\n",
    "\n",
    "all_files = glob.glob(\"/pscratch/sd/v/virajvm/redo_photometry_plots/all_good_cutouts/*\")\n",
    "\n",
    "print(len(all_files))"
   ]
  },
  {
   "cell_type": "code",
   "execution_count": 72,
   "id": "9d52ef22-b743-4dc2-95ff-fd1442a92791",
   "metadata": {},
   "outputs": [
    {
     "data": {
      "text/plain": [
       "['/pscratch/sd/v/virajvm/redo_photometry_plots/all_good_cutouts/image_tgid_39627362920307565_ra_28.750_dec_-17.632334.fits',\n",
       " '/pscratch/sd/v/virajvm/redo_photometry_plots/all_good_cutouts/image_tgid_39627362920307565_ra_28.750_dec_-17.632.fits']"
      ]
     },
     "execution_count": 72,
     "metadata": {},
     "output_type": "execute_result"
    }
   ],
   "source": [
    "glob.glob(\"/pscratch/sd/v/virajvm/redo_photometry_plots/all_good_cutouts/image_tgid_39627362920307565*\")"
   ]
  },
  {
   "cell_type": "code",
   "execution_count": 23,
   "id": "4d7e0bb3-806f-4f8f-873a-219b994950de",
   "metadata": {},
   "outputs": [],
   "source": [
    "clean_cat = Table.read(\"/pscratch/sd/v/virajvm/catalog_dr1_dwarfs/desi_y1_dwarf_clean_catalog_v4_RUN_W_APER.fits\")\n"
   ]
  },
  {
   "cell_type": "code",
   "execution_count": 33,
   "id": "21d0a517-e893-4960-ac76-28448f09baf3",
   "metadata": {},
   "outputs": [
    {
     "data": {
      "text/html": [
       "<div><i>Table length=1</i>\n",
       "<table id=\"table140332320834224\" class=\"table-striped table-bordered table-condensed\">\n",
       "<thead><tr><th>TARGETID</th><th>SURVEY</th><th>PROGRAM</th><th>HEALPIX</th><th>SPGRPVAL</th><th>Z</th><th>ZERR</th><th>ZWARN</th><th>CHI2</th><th>COEFF</th><th>NPIXELS</th><th>SPECTYPE</th><th>SUBTYPE</th><th>NCOEFF</th><th>DELTACHI2</th><th>COADD_FIBERSTATUS</th><th>RA</th><th>DEC</th><th>PMRA</th><th>PMDEC</th><th>REF_EPOCH</th><th>FA_TARGET</th><th>FA_TYPE</th><th>OBJTYPE</th><th>SUBPRIORITY</th><th>OBSCONDITIONS</th><th>RELEASE</th><th>BRICKNAME</th><th>BRICKID</th><th>BRICK_OBJID</th><th>MORPHTYPE</th><th>EBV</th><th>FIBERFLUX_R</th><th>MASKBITS</th><th>REF_ID</th><th>REF_CAT</th><th>GAIA_PHOT_G_MEAN_MAG</th><th>GAIA_PHOT_BP_MEAN_MAG</th><th>GAIA_PHOT_RP_MEAN_MAG</th><th>PARALLAX</th><th>PHOTSYS</th><th>PRIORITY_INIT</th><th>NUMOBS_INIT</th><th>CMX_TARGET</th><th>DESI_TARGET</th><th>BGS_TARGET</th><th>MWS_TARGET</th><th>SCND_TARGET</th><th>SV1_DESI_TARGET</th><th>SV1_BGS_TARGET</th><th>SV1_MWS_TARGET</th><th>SV1_SCND_TARGET</th><th>SV2_DESI_TARGET</th><th>SV2_BGS_TARGET</th><th>SV2_MWS_TARGET</th><th>SV2_SCND_TARGET</th><th>SV3_DESI_TARGET</th><th>SV3_BGS_TARGET</th><th>SV3_MWS_TARGET</th><th>SV3_SCND_TARGET</th><th>PLATE_RA</th><th>PLATE_DEC</th><th>COADD_NUMEXP</th><th>COADD_EXPTIME</th><th>COADD_NUMNIGHT</th><th>COADD_NUMTILE</th><th>MEAN_DELTA_X</th><th>RMS_DELTA_X</th><th>MEAN_DELTA_Y</th><th>RMS_DELTA_Y</th><th>MEAN_PSF_TO_FIBER_SPECFLUX</th><th>MEAN_FIBER_RA</th><th>STD_FIBER_RA</th><th>MEAN_FIBER_DEC</th><th>STD_FIBER_DEC</th><th>MIN_MJD</th><th>MAX_MJD</th><th>MEAN_MJD</th><th>TSNR2_GPBDARK_B</th><th>TSNR2_ELG_B</th><th>TSNR2_GPBBRIGHT_B</th><th>TSNR2_LYA_B</th><th>TSNR2_BGS_B</th><th>TSNR2_GPBBACKUP_B</th><th>TSNR2_QSO_B</th><th>TSNR2_LRG_B</th><th>TSNR2_GPBDARK_R</th><th>TSNR2_ELG_R</th><th>TSNR2_GPBBRIGHT_R</th><th>TSNR2_LYA_R</th><th>TSNR2_BGS_R</th><th>TSNR2_GPBBACKUP_R</th><th>TSNR2_QSO_R</th><th>TSNR2_LRG_R</th><th>TSNR2_GPBDARK_Z</th><th>TSNR2_ELG_Z</th><th>TSNR2_GPBBRIGHT_Z</th><th>TSNR2_LYA_Z</th><th>TSNR2_BGS_Z</th><th>TSNR2_GPBBACKUP_Z</th><th>TSNR2_QSO_Z</th><th>TSNR2_LRG_Z</th><th>TSNR2_GPBDARK</th><th>TSNR2_ELG</th><th>TSNR2_GPBBRIGHT</th><th>TSNR2_LYA</th><th>TSNR2_BGS</th><th>TSNR2_GPBBACKUP</th><th>TSNR2_QSO</th><th>TSNR2_LRG</th><th>MAIN_NSPEC</th><th>MAIN_PRIMARY</th><th>SV_NSPEC</th><th>SV_PRIMARY</th><th>ZCAT_NSPEC</th><th>ZCAT_PRIMARY</th><th>DESINAME</th><th>FLUX_G</th><th>FLUX_IVAR_G</th><th>MAG_G</th><th>MAG_G_ERR</th><th>FLUX_R</th><th>FLUX_IVAR_R</th><th>MAG_R</th><th>MAG_R_ERR</th><th>FLUX_Z</th><th>FLUX_IVAR_Z</th><th>MAG_Z</th><th>MAG_Z_ERR</th><th>FIBERMAG_R</th><th>OBJID</th><th>SIGMA_G</th><th>FRACFLUX_G</th><th>RCHISQ_G</th><th>SIGMA_GOOD_G</th><th>SIGMA_R</th><th>FRACFLUX_R</th><th>RCHISQ_R</th><th>SIGMA_GOOD_R</th><th>SIGMA_Z</th><th>FRACFLUX_Z</th><th>RCHISQ_Z</th><th>SIGMA_GOOD_Z</th><th>SHAPE_R</th><th>SHAPE_R_ERR</th><th>MU_R</th><th>MU_R_ERR</th><th>SERSIC</th><th>SERSIC_IVAR</th><th>BA</th><th>TYPE</th><th>PHI</th><th>NOBS_G</th><th>NOBS_R</th><th>NOBS_Z</th><th>MW_TRANSMISSION_G</th><th>MW_TRANSMISSION_R</th><th>MW_TRANSMISSION_Z</th><th>HALPHA_FLUX_CG</th><th>HALPHA_FLUXERR_CG</th><th>HALPHA_EW_CG</th><th>HALPHA_EWERR_CG</th><th>MASS_CG</th><th>MASSERR_CG</th><th>LOGM_SAGA</th><th>LOGM_M24</th><th>SWEEP</th><th>is_south</th><th>STARFDIST</th><th>STARDIST_DEG</th><th>STARMAG</th><th>STAR_RADIUS_ARCSEC</th><th>STAR_RA</th><th>STAR_DEC</th><th>IMAGE_SIZE_PIX</th><th>SAMPLE</th><th>SGA_ID_MATCH</th><th>SGA_D26_NORM_DIST</th><th>SGA_DIST_DEG</th><th>IMAGE_PATH</th><th>FILE_PATH</th></tr></thead>\n",
       "<thead><tr><th></th><th></th><th></th><th></th><th></th><th></th><th></th><th></th><th></th><th></th><th></th><th></th><th></th><th></th><th></th><th></th><th>deg</th><th>deg</th><th>mas / yr</th><th>mas / yr</th><th>yr</th><th></th><th></th><th></th><th></th><th></th><th></th><th></th><th></th><th></th><th></th><th>mag</th><th>nanomaggy</th><th></th><th></th><th></th><th>mag</th><th>mag</th><th>mag</th><th>mas</th><th></th><th></th><th></th><th></th><th></th><th></th><th></th><th></th><th></th><th></th><th></th><th></th><th></th><th></th><th></th><th></th><th></th><th></th><th></th><th></th><th>deg</th><th>deg</th><th></th><th>s</th><th></th><th></th><th>mm</th><th>mm</th><th>mm</th><th>mm</th><th></th><th>deg</th><th>arcsec</th><th>deg</th><th>arcsec</th><th></th><th></th><th></th><th></th><th></th><th></th><th></th><th></th><th></th><th></th><th></th><th></th><th></th><th></th><th></th><th></th><th></th><th></th><th></th><th></th><th></th><th></th><th></th><th></th><th></th><th></th><th></th><th></th><th></th><th></th><th></th><th></th><th></th><th></th><th></th><th></th><th></th><th></th><th></th><th></th><th></th><th></th><th>nanomaggy</th><th>1/nanomaggy^2</th><th>nanomaggy</th><th>1/nanomaggy^2</th><th>nanomaggy</th><th>1/nanomaggy^2</th><th>nanomaggy</th><th>1/nanomaggy^2</th><th>nanomaggy</th><th>1/nanomaggy^2</th><th>nanomaggy</th><th>1/nanomaggy^2</th><th>nanomaggy</th><th></th><th>nanomaggy</th><th></th><th></th><th></th><th>nanomaggy</th><th></th><th></th><th></th><th>nanomaggy</th><th></th><th></th><th></th><th></th><th></th><th></th><th></th><th></th><th></th><th></th><th></th><th></th><th></th><th></th><th></th><th></th><th></th><th></th><th></th><th></th><th></th><th></th><th></th><th></th><th></th><th></th><th></th><th></th><th></th><th></th><th></th><th></th><th></th><th></th><th></th><th></th><th></th><th></th><th></th><th></th><th></th></tr></thead>\n",
       "<thead><tr><th>int64</th><th>bytes7</th><th>bytes6</th><th>int32</th><th>int32</th><th>float64</th><th>float64</th><th>int64</th><th>float64</th><th>float64[10]</th><th>int64</th><th>bytes6</th><th>bytes20</th><th>int64</th><th>float64</th><th>int32</th><th>float64</th><th>float64</th><th>float32</th><th>float32</th><th>float32</th><th>int64</th><th>uint8</th><th>bytes3</th><th>float64</th><th>int32</th><th>int16</th><th>bytes8</th><th>int32</th><th>int32</th><th>bytes4</th><th>float32</th><th>float32</th><th>int16</th><th>int64</th><th>bytes2</th><th>float32</th><th>float32</th><th>float32</th><th>float32</th><th>bytes1</th><th>int64</th><th>int64</th><th>int64</th><th>int64</th><th>int64</th><th>int64</th><th>int64</th><th>int64</th><th>int64</th><th>int64</th><th>int64</th><th>int64</th><th>int64</th><th>int64</th><th>int64</th><th>int64</th><th>int64</th><th>int64</th><th>int64</th><th>float64</th><th>float64</th><th>int16</th><th>float32</th><th>int16</th><th>int16</th><th>float32</th><th>float32</th><th>float32</th><th>float32</th><th>float32</th><th>float64</th><th>float32</th><th>float64</th><th>float32</th><th>float64</th><th>float64</th><th>float64</th><th>float32</th><th>float32</th><th>float32</th><th>float32</th><th>float32</th><th>float32</th><th>float32</th><th>float32</th><th>float32</th><th>float32</th><th>float32</th><th>float32</th><th>float32</th><th>float32</th><th>float32</th><th>float32</th><th>float32</th><th>float32</th><th>float32</th><th>float32</th><th>float32</th><th>float32</th><th>float32</th><th>float32</th><th>float32</th><th>float32</th><th>float32</th><th>float32</th><th>float32</th><th>float32</th><th>float32</th><th>float32</th><th>int16</th><th>bool</th><th>int16</th><th>bool</th><th>int16</th><th>bool</th><th>bytes22</th><th>float32</th><th>float32</th><th>float32</th><th>float32</th><th>float32</th><th>float32</th><th>float32</th><th>float32</th><th>float32</th><th>float32</th><th>float32</th><th>float32</th><th>float32</th><th>int32</th><th>float32</th><th>float32</th><th>float32</th><th>float32</th><th>float32</th><th>float32</th><th>float32</th><th>float32</th><th>float32</th><th>float32</th><th>float32</th><th>float32</th><th>float32</th><th>float32</th><th>float32</th><th>float32</th><th>float32</th><th>float32</th><th>float32</th><th>bytes3</th><th>float32</th><th>int16</th><th>int16</th><th>int16</th><th>float32</th><th>float32</th><th>float32</th><th>float64</th><th>float64</th><th>float64</th><th>float64</th><th>float64</th><th>float64</th><th>float64</th><th>float64</th><th>bytes29</th><th>int64</th><th>float32</th><th>float32</th><th>float32</th><th>float32</th><th>float32</th><th>float32</th><th>int64</th><th>bytes10</th><th>int64</th><th>float64</th><th>float64</th><th>bytes121</th><th>bytes124</th></tr></thead>\n",
       "<tr><td>39627082589803927</td><td>sv1</td><td>bright</td><td>34725</td><td>34725</td><td>0.059369732681056685</td><td>1.7928738202246708e-05</td><td>0</td><td>7972.17561298795</td><td>1.56050197229699 .. -28.313115785612823</td><td>7927</td><td>GALAXY</td><td>--</td><td>10</td><td>61.03197787515819</td><td>0</td><td>61.214696530120904</td><td>-30.416725369210386</td><td>0.0</td><td>0.0</td><td>2021.0034</td><td>1152921504606846976</td><td>1</td><td>TGT</td><td>0.9693905205712365</td><td>4</td><td>9010</td><td>0612m305</td><td>162965</td><td>5527</td><td>SER</td><td>0.012438705</td><td>1.6168622</td><td>0</td><td>0</td><td>--</td><td>0.0</td><td>0.0</td><td>0.0</td><td>0.0</td><td>S</td><td>2000</td><td>1</td><td>0</td><td>0</td><td>0</td><td>0</td><td>0</td><td>1152921504606846976</td><td>131074</td><td>0</td><td>0</td><td>0</td><td>0</td><td>0</td><td>0</td><td>0</td><td>0</td><td>0</td><td>0</td><td>61.214696530120904</td><td>-30.416725369210386</td><td>4</td><td>1200.0</td><td>2</td><td>1</td><td>0.00825</td><td>0.009682459</td><td>0.002</td><td>0.010793516</td><td>0.7216829</td><td>61.21473379157129</td><td>0.07120017</td><td>-30.416732527737455</td><td>0.15493952</td><td>59217.18202443</td><td>59218.17724635</td><td>59217.67963279</td><td>22.99245</td><td>0.012141458</td><td>4.639724</td><td>7.246576</td><td>76.518295</td><td>39.564354</td><td>0.31371886</td><td>0.13394067</td><td>2087.6643</td><td>4.493845</td><td>409.5863</td><td>0.007990931</td><td>469.92786</td><td>3174.926</td><td>1.3697855</td><td>6.5526004</td><td>4.0506775e-06</td><td>19.532824</td><td>8.0787663e-07</td><td>0.0</td><td>1031.2981</td><td>6.623128e-06</td><td>4.1852665</td><td>9.488611</td><td>2110.6567</td><td>24.03881</td><td>414.226</td><td>7.2545667</td><td>1577.7443</td><td>3214.4905</td><td>5.8687706</td><td>16.175152</td><td>0</td><td>False</td><td>1</td><td>True</td><td>1</td><td>True</td><td>DESI J061.2146-30.4167</td><td>22.537733</td><td>121.34627</td><td>19.117725</td><td>0.0043783057</td><td>32.85501</td><td>72.89218</td><td>18.708496</td><td>0.0038751406</td><td>39.69825</td><td>8.766895</td><td>18.50307</td><td>0.009247733</td><td>21.978317</td><td>5527</td><td>248.26955</td><td>0.078503475</td><td>1.054273</td><td>248.26955</td><td>280.50598</td><td>0.0652704</td><td>1.1373464</td><td>280.50598</td><td>117.54231</td><td>0.05059116</td><td>0.9618747</td><td>117.54231</td><td>4.9575915</td><td>0.0096153915</td><td>24.1803</td><td>0.0057224864</td><td>1.2741723</td><td>13391.679</td><td>0.5592667</td><td>SER</td><td>17.501242</td><td>9</td><td>9</td><td>11</td><td>0.96384853</td><td>0.97550184</td><td>0.986222</td><td>7.163231917927506</td><td>1.4881398419394767</td><td>6.716085501961335</td><td>1.4668182623284636</td><td>859762042.3513348</td><td>354818409.51091325</td><td>9.096952885380926</td><td>9.23334003324186</td><td>sweep-060m035-070m030-pz.fits</td><td>1</td><td>99.0</td><td>99.0</td><td>99.0</td><td>99.0</td><td>99.0</td><td>99.0</td><td>350</td><td>BGS_BRIGHT</td><td>687458</td><td>29.19918011635217</td><td>0.09669012734041442</td><td>/pscratch/sd/v/virajvm/redo_photometry_plots/all_good_cutouts/image_tgid_39627082589803927_ra_61.215_dec_-30.416725.fits</td><td>/pscratch/sd/v/virajvm/redo_photometry_plots/all_good/south/sweep-060m035-070m030/0612m305/BGS_BRIGHT_tgid_39627082589803927</td></tr>\n",
       "</table></div>"
      ],
      "text/plain": [
       "<Table length=1>\n",
       "     TARGETID     ...\n",
       "                  ...\n",
       "      int64       ...\n",
       "----------------- ...\n",
       "39627082589803927 ..."
      ]
     },
     "execution_count": 33,
     "metadata": {},
     "output_type": "execute_result"
    }
   ],
   "source": [
    "clean_cat[clean_cat[\"RA\"] == 61.214696530120904]"
   ]
  },
  {
   "cell_type": "code",
   "execution_count": 50,
   "id": "3d4d007f-41b0-4e2e-8103-f648372fc572",
   "metadata": {},
   "outputs": [
    {
     "ename": "KeyError",
     "evalue": "'IMAGE_PATH'",
     "output_type": "error",
     "traceback": [
      "\u001b[0;31m---------------------------------------------------------------------------\u001b[0m",
      "\u001b[0;31mKeyError\u001b[0m                                  Traceback (most recent call last)",
      "Cell \u001b[0;32mIn[50], line 1\u001b[0m\n\u001b[0;32m----> 1\u001b[0m img_path \u001b[38;5;241m=\u001b[39m \u001b[43mclean_cat\u001b[49m\u001b[43m[\u001b[49m\u001b[43mclean_cat\u001b[49m\u001b[43m[\u001b[49m\u001b[38;5;124;43m\"\u001b[39;49m\u001b[38;5;124;43mTARGETID\u001b[39;49m\u001b[38;5;124;43m\"\u001b[39;49m\u001b[43m]\u001b[49m\u001b[43m \u001b[49m\u001b[38;5;241;43m==\u001b[39;49m\u001b[43m \u001b[49m\u001b[38;5;241;43m39627374345585658\u001b[39;49m\u001b[43m]\u001b[49m\u001b[43m[\u001b[49m\u001b[38;5;124;43m\"\u001b[39;49m\u001b[38;5;124;43mIMAGE_PATH\u001b[39;49m\u001b[38;5;124;43m\"\u001b[39;49m\u001b[43m]\u001b[49m[\u001b[38;5;241m0\u001b[39m]\n\u001b[1;32m      2\u001b[0m img_path\n",
      "File \u001b[0;32m/global/common/software/desi/perlmutter/desiconda/20240425-2.2.0/conda/lib/python3.10/site-packages/astropy/table/table.py:2062\u001b[0m, in \u001b[0;36mTable.__getitem__\u001b[0;34m(self, item)\u001b[0m\n\u001b[1;32m   2060\u001b[0m \u001b[38;5;28;01mdef\u001b[39;00m \u001b[38;5;21m__getitem__\u001b[39m(\u001b[38;5;28mself\u001b[39m, item):\n\u001b[1;32m   2061\u001b[0m     \u001b[38;5;28;01mif\u001b[39;00m \u001b[38;5;28misinstance\u001b[39m(item, \u001b[38;5;28mstr\u001b[39m):\n\u001b[0;32m-> 2062\u001b[0m         \u001b[38;5;28;01mreturn\u001b[39;00m \u001b[38;5;28;43mself\u001b[39;49m\u001b[38;5;241;43m.\u001b[39;49m\u001b[43mcolumns\u001b[49m\u001b[43m[\u001b[49m\u001b[43mitem\u001b[49m\u001b[43m]\u001b[49m\n\u001b[1;32m   2063\u001b[0m     \u001b[38;5;28;01melif\u001b[39;00m \u001b[38;5;28misinstance\u001b[39m(item, (\u001b[38;5;28mint\u001b[39m, np\u001b[38;5;241m.\u001b[39minteger)):\n\u001b[1;32m   2064\u001b[0m         \u001b[38;5;28;01mreturn\u001b[39;00m \u001b[38;5;28mself\u001b[39m\u001b[38;5;241m.\u001b[39mRow(\u001b[38;5;28mself\u001b[39m, item)\n",
      "File \u001b[0;32m/global/common/software/desi/perlmutter/desiconda/20240425-2.2.0/conda/lib/python3.10/site-packages/astropy/table/table.py:265\u001b[0m, in \u001b[0;36mTableColumns.__getitem__\u001b[0;34m(self, item)\u001b[0m\n\u001b[1;32m    254\u001b[0m \u001b[38;5;250m\u001b[39m\u001b[38;5;124;03m\"\"\"Get items from a TableColumns object.\u001b[39;00m\n\u001b[1;32m    255\u001b[0m \n\u001b[1;32m    256\u001b[0m \u001b[38;5;124;03m::\u001b[39;00m\n\u001b[0;32m   (...)\u001b[0m\n\u001b[1;32m    262\u001b[0m \u001b[38;5;124;03m  tc[1:3] # <TableColumns names=('b', 'c')>\u001b[39;00m\n\u001b[1;32m    263\u001b[0m \u001b[38;5;124;03m\"\"\"\u001b[39;00m\n\u001b[1;32m    264\u001b[0m \u001b[38;5;28;01mif\u001b[39;00m \u001b[38;5;28misinstance\u001b[39m(item, \u001b[38;5;28mstr\u001b[39m):\n\u001b[0;32m--> 265\u001b[0m     \u001b[38;5;28;01mreturn\u001b[39;00m \u001b[43mOrderedDict\u001b[49m\u001b[38;5;241;43m.\u001b[39;49m\u001b[38;5;21;43m__getitem__\u001b[39;49m\u001b[43m(\u001b[49m\u001b[38;5;28;43mself\u001b[39;49m\u001b[43m,\u001b[49m\u001b[43m \u001b[49m\u001b[43mitem\u001b[49m\u001b[43m)\u001b[49m\n\u001b[1;32m    266\u001b[0m \u001b[38;5;28;01melif\u001b[39;00m \u001b[38;5;28misinstance\u001b[39m(item, (\u001b[38;5;28mint\u001b[39m, np\u001b[38;5;241m.\u001b[39minteger)):\n\u001b[1;32m    267\u001b[0m     \u001b[38;5;28;01mreturn\u001b[39;00m \u001b[38;5;28mlist\u001b[39m(\u001b[38;5;28mself\u001b[39m\u001b[38;5;241m.\u001b[39mvalues())[item]\n",
      "\u001b[0;31mKeyError\u001b[0m: 'IMAGE_PATH'"
     ]
    }
   ],
   "source": [
    "img_path = clean_cat[clean_cat[\"TARGETID\"] == 39627374345585658]\n",
    "img_path"
   ]
  },
  {
   "cell_type": "code",
   "execution_count": null,
   "id": "e1b9fce7-655c-4685-9c43-744a81cd6c35",
   "metadata": {},
   "outputs": [],
   "source": []
  },
  {
   "cell_type": "code",
   "execution_count": 58,
   "id": "9f8f7973-af53-4853-88a6-e974d2160f44",
   "metadata": {},
   "outputs": [
    {
     "data": {
      "text/plain": [
       "['/pscratch/sd/v/virajvm/redo_photometry_plots/all_good_cutouts/image_tgid_39627369299841306_ra_67.174_dec_-17.455.fits',\n",
       " '/pscratch/sd/v/virajvm/redo_photometry_plots/all_good_cutouts/image_tgid_39627369299841306_ra_67.174_dec_-17.454553.fits']"
      ]
     },
     "execution_count": 58,
     "metadata": {},
     "output_type": "execute_result"
    }
   ],
   "source": [
    "glob.glob(\"/pscratch/sd/v/virajvm/redo_photometry_plots/all_good_cutouts/image_tgid_39627369299841306*\")\n"
   ]
  },
  {
   "cell_type": "code",
   "execution_count": 56,
   "id": "428c0ee9-bd7e-43db-a98f-1ae4deac6ffd",
   "metadata": {},
   "outputs": [
    {
     "data": {
      "text/plain": [
       "False"
      ]
     },
     "execution_count": 56,
     "metadata": {},
     "output_type": "execute_result"
    }
   ],
   "source": [
    "os.path.exists(img_path)"
   ]
  },
  {
   "cell_type": "code",
   "execution_count": 64,
   "id": "5ab7a806-cf9f-4564-8b17-ce9e7822e2fe",
   "metadata": {},
   "outputs": [],
   "source": [
    "\n",
    "img_good_path = \"/pscratch/sd/v/virajvm/redo_photometry_plots/all_good_cutouts\"\n",
    "\n",
    "from tqdm.notebook import tqdm\n",
    "\n",
    "## construct the dictionary\n",
    "def preload_file_dict(directory):\n",
    "    \"\"\"\n",
    "    Load all filenames in a directory and map tgid -> filepath.\n",
    "    Assumes filenames contain 'tgid_1234567890' or similar.\n",
    "    \"\"\"\n",
    "    file_paths = glob.glob(os.path.join(directory, \"image_tgid_*ra*dec*\"))\n",
    "    file_dict = {}\n",
    "    for path in tqdm(file_paths):\n",
    "        base = os.path.basename(path)\n",
    "        if \"tgid_\" in base:\n",
    "            try:\n",
    "                tgid = int(base.split(\"tgid_\")[1].split(\"_\")[0])\n",
    "                file_dict[tgid] = path\n",
    "            except:\n",
    "                continue\n",
    "    return file_dict\n"
   ]
  },
  {
   "cell_type": "code",
   "execution_count": 65,
   "id": "3fb19a54-f0ac-4563-bf0d-6dac737ce59d",
   "metadata": {},
   "outputs": [
    {
     "data": {
      "application/vnd.jupyter.widget-view+json": {
       "model_id": "5a31b32e2dcd4e59af4d9cd7cd061f6e",
       "version_major": 2,
       "version_minor": 0
      },
      "text/plain": [
       "  0%|          | 0/40457 [00:00<?, ?it/s]"
      ]
     },
     "metadata": {},
     "output_type": "display_data"
    }
   ],
   "source": [
    "good_img_dict = preload_file_dict(img_good_path)"
   ]
  },
  {
   "cell_type": "code",
   "execution_count": 77,
   "id": "2b93d05c-6e62-4a7c-922d-aa2ddc01f51a",
   "metadata": {
    "scrolled": true
   },
   "outputs": [
    {
     "data": {
      "text/plain": [
       "'/pscratch/sd/v/virajvm/redo_photometry_plots/all_good_cutouts/image_tgid_39627380200833519_ra_26.399_dec_-16.897450.fits'"
      ]
     },
     "execution_count": 77,
     "metadata": {},
     "output_type": "execute_result"
    }
   ],
   "source": [
    "good_img_dict[39627380200833519]"
   ]
  },
  {
   "cell_type": "code",
   "execution_count": 81,
   "id": "f566240a-76dc-472d-9a17-de01a762d463",
   "metadata": {},
   "outputs": [
    {
     "data": {
      "text/plain": [
       "['/pscratch/sd/v/virajvm/redo_photometry_plots/all_good_cutouts/image_tgid_39627351511794521_ra_34.451_dec_-18.210.fits',\n",
       " '/pscratch/sd/v/virajvm/redo_photometry_plots/all_good_cutouts/image_tgid_39627351511794521_ra_34.451_dec_-18.210139.fits']"
      ]
     },
     "execution_count": 81,
     "metadata": {},
     "output_type": "execute_result"
    }
   ],
   "source": [
    "glob.glob(\"/pscratch/sd/v/virajvm/redo_photometry_plots/all_good_cutouts/image_tgid_39627351511794521*\")"
   ]
  },
  {
   "cell_type": "code",
   "execution_count": 83,
   "id": "1761a0f4-6280-4c26-950b-c58b798ec86d",
   "metadata": {
    "scrolled": true
   },
   "outputs": [
    {
     "data": {
      "application/vnd.jupyter.widget-view+json": {
       "model_id": "04d38eb4c0054b488912fef7cc2ebb1b",
       "version_major": 2,
       "version_minor": 0
      },
      "text/plain": [
       "  0%|          | 0/40648 [00:00<?, ?it/s]"
      ]
     },
     "metadata": {},
     "output_type": "display_data"
    },
    {
     "name": "stdout",
     "output_type": "stream",
     "text": [
      "Done.\n"
     ]
    }
   ],
   "source": [
    "import os\n",
    "import shutil\n",
    "import glob\n",
    "\n",
    "src_dir = \"/pscratch/sd/v/virajvm/redo_photometry_plots/all_good_cutouts\"\n",
    "dst_dir = \"/pscratch/sd/v/virajvm/redo_photometry_plots/all_good_cutouts_nodups\"\n",
    "\n",
    "os.makedirs(dst_dir, exist_ok=True)\n",
    "\n",
    "all_files_loop = glob.glob(os.path.join(src_dir, \"*.fits\"))\n",
    "\n",
    "for fname in tqdm(all_files_loop):\n",
    "    basename = os.path.basename(fname)\n",
    "\n",
    "    # Example: image_tgid_39627380200833519_ra_26.399_dec_-16.897450.fits\n",
    "    parts = basename.replace(\".fits\", \"\").split(\"_\")\n",
    "    tgid = parts[2]\n",
    "    ra   = float(parts[4])\n",
    "    dec  = float(parts[6])\n",
    "\n",
    "    new_name = f\"image_tgid_{tgid}_ra_{ra:.3f}_dec_{dec:.3f}.fits\"\n",
    "    dst_path = os.path.join(dst_dir, new_name)\n",
    "\n",
    "    shutil.copy2(fname, dst_path)   # overwrites if already exists\n",
    "\n",
    "print(\"Done.\")\n"
   ]
  },
  {
   "cell_type": "code",
   "execution_count": null,
   "id": "dd29bb44-5712-4f28-8638-1a2b6807320c",
   "metadata": {},
   "outputs": [],
   "source": []
  },
  {
   "cell_type": "code",
   "execution_count": null,
   "id": "43fb4610-b883-4d03-a01f-3452d2d8a5bb",
   "metadata": {},
   "outputs": [],
   "source": []
  },
  {
   "cell_type": "code",
   "execution_count": null,
   "id": "3c37608b-0750-42fb-a3a1-3d75a21d5976",
   "metadata": {},
   "outputs": [],
   "source": []
  },
  {
   "cell_type": "code",
   "execution_count": 8,
   "id": "6ae6b023-f158-4127-81d7-9fca9e9383b9",
   "metadata": {},
   "outputs": [],
   "source": [
    "# DESI targeting masks - \n",
    "from desitarget.sv1 import sv1_targetmask    # For SV1\n",
    "from desitarget.sv2 import sv2_targetmask    # For SV2\n",
    "from desitarget.sv3 import sv3_targetmask    # For SV3\n",
    "from desitarget import targetmask\n",
    "\n"
   ]
  },
  {
   "cell_type": "code",
   "execution_count": null,
   "id": "0efc3292-1e1c-426c-a8e5-b0a19c1f99af",
   "metadata": {},
   "outputs": [],
   "source": []
  },
  {
   "cell_type": "code",
   "execution_count": 2,
   "id": "d504fa51-1f34-4ef9-8c52-b667279ea298",
   "metadata": {},
   "outputs": [],
   "source": [
    "zpix_iron = Table.read(\"/global/cfs/cdirs/desi/spectro/redux/iron/zcatalog/v1/zall-pix-iron.fits\")\n",
    "\n",
    "#we remove these columns as we will be adding columns from the zpix_trac later and so hope to avoid confusion\n",
    "cols_to_remove = [\n",
    "\"FLUX_G\", \"FLUX_R\", \"FLUX_Z\", \"FLUX_W1\", \"FLUX_W2\",\n",
    "\"FLUX_IVAR_G\", \"FLUX_IVAR_R\", \"FLUX_IVAR_Z\", \"FLUX_IVAR_W1\", \"FLUX_IVAR_W2\",\n",
    "\"FIBERFLUX_G\", \"FIBERFLUX_Z\",\n",
    "\"FIBERTOTFLUX_G\", \"FIBERTOTFLUX_R\", \"FIBERTOTFLUX_Z\",\n",
    "\"SERSIC\", \"SHAPE_R\", \"SHAPE_E1\", \"SHAPE_E2\"]\n",
    "\n",
    "\n",
    "zpix_iron.remove_columns(cols_to_remove)\n",
    "\n",
    "\n",
    "\n",
    "##rename columns\n",
    "zpix_iron.rename_column('TARGET_RA', 'RA')\n",
    "zpix_iron.rename_column('TARGET_DEC', 'DEC')\n"
   ]
  },
  {
   "cell_type": "code",
   "execution_count": 3,
   "id": "c51c706c-8b57-49f1-81a9-b055efc9fd8b",
   "metadata": {},
   "outputs": [
    {
     "name": "stdout",
     "output_type": "stream",
     "text": [
      "Fraction remaining after basic cleaning cut = 0.27931008001382396\n"
     ]
    }
   ],
   "source": [
    "\n",
    "##apply a basic cut of spectype = \"GALAXY\", z > 0.001 and ZCAT_PRIMARY = 1, and maximum redshift\n",
    "basic_cleaning = (zpix_iron[\"SPECTYPE\"] == \"GALAXY\") & (zpix_iron[\"ZCAT_PRIMARY\"] == 1) & (zpix_iron[\"COADD_FIBERSTATUS\"] == 0) & (zpix_iron[\"Z\"] < 0.5) & (zpix_iron[\"Z\"] > 0.001)\n",
    "\n",
    "#we apply a cut on redshift, because we are using redshifts to get distances and we cannot get accurate stellar masses anyways if z<0.001\n",
    "\n",
    "print(f\"Fraction remaining after basic cleaning cut = { np.sum(basic_cleaning)/len(zpix_iron) }\")\n",
    "\n",
    "zpix_iron = zpix_iron[basic_cleaning]\n",
    "\n",
    "#select for unique targets\n",
    "_, uni_tgids = np.unique( zpix_iron[\"TARGETID\"].data, return_index=True )\n",
    "zpix_iron = zpix_iron[uni_tgids]\n",
    "\n"
   ]
  },
  {
   "cell_type": "code",
   "execution_count": null,
   "id": "03317196-eb16-400a-8f60-bf13b0186693",
   "metadata": {},
   "outputs": [],
   "source": []
  },
  {
   "cell_type": "code",
   "execution_count": null,
   "id": "7e0dd73b-4c98-45ad-83de-a8fa59e5219d",
   "metadata": {},
   "outputs": [],
   "source": [
    "\n",
    "gal_types = [\"BGS_BRIGHT\", \"BGS_FAINT\", \"ELG\",\"LOWZ\"]\n",
    "\n",
    "\n",
    "#looping over all the sub-samples!\n",
    "#gal_mask is the boolean array to select the galaxies\n",
    "for i,gal_type in enumerate(gal_types):\n",
    "\n",
    "    if gal_type == \"LOWZ\":\n",
    "        zpix_iron = zpix_iron[zpix_iron[\"PROGRAM\"] == \"dark\"]\n",
    "\n",
    "        #get the lowz survey mask\n",
    "        lowz_main_mask = (zpix_iron[\"SCND_TARGET\"] == 2**15) | (zpix_iron[\"SCND_TARGET\"] == 2**16) | (zpix_iron[\"SCND_TARGET\"] == 2**17)\n",
    "        lowz_sv_mask = np.zeros(len(zpix)).astype(bool)\n",
    "        for svi in range(1,4):\n",
    "            svi_mask = (zpix[f\"SV{svi}_SCND_TARGET\"] == 2**15) | (zpix[f\"SV{svi}_SCND_TARGET\"] == 2**16) | (zpix[f\"SV{svi}_SCND_TARGET\"] == 2**17)\n",
    "            lowz_sv_mask |= svi_mask\n",
    "    \n",
    "        gal_mask = lowz_main_mask | lowz_sv_mask\n",
    "            \n",
    "        \n",
    "    if gal_type == \"BGS_BRIGHT\":\n",
    "        iron_bgs_tgid = zpix_iron[\"BGS_TARGET\"]\n",
    "        bgsb_main_mask = ( (iron_bgs_tgid & bgs_mask[\"BGS_BRIGHT\"]) != 0 )\n",
    "        bgsb_sv_mask = get_sv_bgs_mask(zpix_iron, bgs_class = \"BGS_BRIGHT\")\n",
    "\n",
    "        print(f\"Number of BGS Bright objects in Main survey = {np.sum(bgsb_main_mask)}\")\n",
    "        print(f\"Number of BGS Bright objects in SV survey = {np.sum(bgsb_sv_mask)}\")\n",
    "        \n",
    "        gal_mask = bgsb_main_mask | bgsb_sv_mask\n",
    "        \n",
    "    if gal_type == \"BGS_FAINT\":\n",
    "        iron_bgs_tgid = zpix_iron[\"BGS_TARGET\"]\n",
    "        \n",
    "        bgsf_main_mask = ( (iron_bgs_tgid & bgs_mask[\"BGS_FAINT\"]) != 0 )\n",
    "\n",
    "        bgsf_sv_mask = get_sv_bgs_mask(zpix_iron, bgs_class = \"BGS_FAINT\")\n",
    "\n",
    "        print(f\"Number of BGS Faint objects in Main survey = {np.sum(bgsf_main_mask)}\")\n",
    "        print(f\"Number of BGS Faint objects in SV survey = {np.sum(bgsf_sv_mask)}\")\n",
    "        \n",
    "        gal_mask = bgsf_main_mask | bgsf_sv_mask\n",
    "\n",
    "    if gal_type == \"ELG\":\n",
    "        desi_tgt = zpix_iron[\"DESI_TARGET\"]\n",
    "        elg_main_mask = (desi_tgt & desi_mask[\"ELG\"]) != 0\n",
    "        elg_sv_mask = get_sv_elg_mask(zpix_iron)\n",
    "        gal_mask = elg_main_mask | elg_sv_mask\n",
    "\n",
    "\n"
   ]
  },
  {
   "cell_type": "code",
   "execution_count": null,
   "id": "78d077dc-508b-445c-a0dc-459273bb1175",
   "metadata": {},
   "outputs": [],
   "source": []
  },
  {
   "cell_type": "markdown",
   "id": "1ed86a1a-652f-493b-9876-cc0c5c974c70",
   "metadata": {},
   "source": [
    "The weird issue of trying to select with fastspec catalog"
   ]
  },
  {
   "cell_type": "code",
   "execution_count": 9,
   "id": "f9a055c9-d8af-400e-a9bc-475742063e78",
   "metadata": {},
   "outputs": [],
   "source": [
    "iron_vac = fits.open(\"/global/cfs/cdirs/desi/public/dr1/vac/dr1/fastspecfit/iron/v2.1/catalogs/fastspec-iron.fits\")\n",
    "vac_data_f = iron_vac[2].data\n"
   ]
  },
  {
   "cell_type": "code",
   "execution_count": 10,
   "id": "292745d5-8db7-4bd7-8afa-c86c531076b5",
   "metadata": {},
   "outputs": [
    {
     "name": "stdout",
     "output_type": "stream",
     "text": [
      "16692760\n"
     ]
    }
   ],
   "source": [
    "## METHOD 1\n",
    "\n",
    "sel = (vac_data_f[\"SV1_BGS_TARGET\"] & sv1_targetmask.bgs_mask[\"BGS_BRIGHT\"] != 0)\n",
    "\n",
    "print(len(vac_data_f[sel]))"
   ]
  },
  {
   "cell_type": "code",
   "execution_count": 11,
   "id": "babfd0a2-d8af-49ba-bdaf-6e562a7daa99",
   "metadata": {},
   "outputs": [
    {
     "name": "stdout",
     "output_type": "stream",
     "text": [
      "55283\n"
     ]
    }
   ],
   "source": [
    "## METHOD 2\n",
    "\n",
    "sv1_desi_tgt =vac_data_f['SV1_DESI_TARGET']\n",
    "## first select for SV1 BGS ANY objects\n",
    "sv1_desi_mask = sv1_targetmask.desi_mask\n",
    "sv1_bgs = (sv1_desi_tgt & sv1_desi_mask['BGS_ANY'] != 0)\n",
    "vac_data_sv1 = vac_data_f[sv1_bgs]\n",
    "\n",
    "## then select by bgs bright\n",
    "sv1_bgs_bright = (vac_data_sv1 [\"SV1_BGS_TARGET\"] & sv1_targetmask.bgs_mask['BGS_BRIGHT'] != 0)\n",
    "\n",
    "print(len(vac_data_sv1[sv1_bgs_bright ]))\n",
    "\n"
   ]
  },
  {
   "cell_type": "code",
   "execution_count": null,
   "id": "ac60892f-cc0d-4078-a3a4-31c960037380",
   "metadata": {},
   "outputs": [],
   "source": []
  }
 ],
 "metadata": {
  "kernelspec": {
   "display_name": "DESI main",
   "language": "python",
   "name": "desi-main"
  },
  "language_info": {
   "codemirror_mode": {
    "name": "ipython",
    "version": 3
   },
   "file_extension": ".py",
   "mimetype": "text/x-python",
   "name": "python",
   "nbconvert_exporter": "python",
   "pygments_lexer": "ipython3",
   "version": "3.10.14"
  }
 },
 "nbformat": 4,
 "nbformat_minor": 5
}
