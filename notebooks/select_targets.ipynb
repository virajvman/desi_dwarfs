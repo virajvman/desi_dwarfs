{
 "cells": [
  {
   "cell_type": "code",
   "execution_count": 1,
   "id": "ff35b332-cee7-42b2-aad0-9c3e43492cd2",
   "metadata": {},
   "outputs": [],
   "source": [
    "import os\n",
    "import sys\n",
    "\n",
    "import numpy as np\n",
    "from tqdm import trange\n",
    "from astropy.io import fits\n",
    "from astropy.table import Table, vstack\n",
    "from astropy.convolution import convolve, Gaussian1DKernel\n",
    "import astropy.units as u\n",
    "import astropy.coordinates as coord\n",
    "import matplotlib\n",
    "import matplotlib.pyplot as plt\n",
    "from astropy.table import Column\n",
    "from tqdm import trange\n",
    "import pandas as pd\n",
    "import fitsio\n",
    "from astropy.table import Table, vstack\n",
    "from astropy import units as u\n",
    "from astropy.coordinates import SkyCoord\n",
    "from easyquery import Query, QueryMaker\n",
    "from scipy.stats import binomtest\n",
    "import matplotlib.pyplot as plt\n",
    "import matplotlib as mpl\n",
    "from matplotlib.colors import LogNorm\n",
    "from matplotlib.colors import ListedColormap, BoundaryNorm\n",
    "import h5py\n",
    "from astropy.cosmology import Planck18\n",
    "\n",
    "mpl.rcParams['font.family'] = 'serif'\n",
    "mpl.rcParams['axes.linewidth'] = 1.5\n",
    "mpl.rcParams['axes.xmargin'] = 1\n",
    "mpl.rcParams['xtick.labelsize'] = 'x-large'\n",
    "mpl.rcParams['xtick.major.size'] = 5\n",
    "mpl.rcParams['xtick.major.width'] = 1.5\n",
    "mpl.rcParams['ytick.labelsize'] = 'x-large'\n",
    "mpl.rcParams['ytick.major.size'] = 5\n",
    "mpl.rcParams['ytick.major.width'] = 1.5\n",
    "mpl.rcParams['legend.frameon'] = False\n",
    "\n",
    "rootdir = '/global/u1/v/virajvm/'\n",
    "sys.path.append(os.path.join(rootdir, 'DESI2_LOWZ/desi_dwarfs/code'))\n",
    "\n",
    "from desi_lowz_funcs import make_subplots"
   ]
  },
  {
   "cell_type": "code",
   "execution_count": 8,
   "id": "6ae6b023-f158-4127-81d7-9fca9e9383b9",
   "metadata": {},
   "outputs": [],
   "source": [
    "# DESI targeting masks - \n",
    "from desitarget.sv1 import sv1_targetmask    # For SV1\n",
    "from desitarget.sv2 import sv2_targetmask    # For SV2\n",
    "from desitarget.sv3 import sv3_targetmask    # For SV3\n",
    "from desitarget import targetmask\n",
    "\n"
   ]
  },
  {
   "cell_type": "code",
   "execution_count": null,
   "id": "0efc3292-1e1c-426c-a8e5-b0a19c1f99af",
   "metadata": {},
   "outputs": [],
   "source": []
  },
  {
   "cell_type": "code",
   "execution_count": 2,
   "id": "d504fa51-1f34-4ef9-8c52-b667279ea298",
   "metadata": {},
   "outputs": [],
   "source": [
    "zpix_iron = Table.read(\"/global/cfs/cdirs/desi/spectro/redux/iron/zcatalog/v1/zall-pix-iron.fits\")\n",
    "\n",
    "#we remove these columns as we will be adding columns from the zpix_trac later and so hope to avoid confusion\n",
    "cols_to_remove = [\n",
    "\"FLUX_G\", \"FLUX_R\", \"FLUX_Z\", \"FLUX_W1\", \"FLUX_W2\",\n",
    "\"FLUX_IVAR_G\", \"FLUX_IVAR_R\", \"FLUX_IVAR_Z\", \"FLUX_IVAR_W1\", \"FLUX_IVAR_W2\",\n",
    "\"FIBERFLUX_G\", \"FIBERFLUX_Z\",\n",
    "\"FIBERTOTFLUX_G\", \"FIBERTOTFLUX_R\", \"FIBERTOTFLUX_Z\",\n",
    "\"SERSIC\", \"SHAPE_R\", \"SHAPE_E1\", \"SHAPE_E2\"]\n",
    "\n",
    "\n",
    "zpix_iron.remove_columns(cols_to_remove)\n",
    "\n",
    "\n",
    "\n",
    "##rename columns\n",
    "zpix_iron.rename_column('TARGET_RA', 'RA')\n",
    "zpix_iron.rename_column('TARGET_DEC', 'DEC')\n"
   ]
  },
  {
   "cell_type": "code",
   "execution_count": 3,
   "id": "c51c706c-8b57-49f1-81a9-b055efc9fd8b",
   "metadata": {},
   "outputs": [
    {
     "name": "stdout",
     "output_type": "stream",
     "text": [
      "Fraction remaining after basic cleaning cut = 0.27931008001382396\n"
     ]
    }
   ],
   "source": [
    "\n",
    "##apply a basic cut of spectype = \"GALAXY\", z > 0.001 and ZCAT_PRIMARY = 1, and maximum redshift\n",
    "basic_cleaning = (zpix_iron[\"SPECTYPE\"] == \"GALAXY\") & (zpix_iron[\"ZCAT_PRIMARY\"] == 1) & (zpix_iron[\"COADD_FIBERSTATUS\"] == 0) & (zpix_iron[\"Z\"] < 0.5) & (zpix_iron[\"Z\"] > 0.001)\n",
    "\n",
    "#we apply a cut on redshift, because we are using redshifts to get distances and we cannot get accurate stellar masses anyways if z<0.001\n",
    "\n",
    "print(f\"Fraction remaining after basic cleaning cut = { np.sum(basic_cleaning)/len(zpix_iron) }\")\n",
    "\n",
    "zpix_iron = zpix_iron[basic_cleaning]\n",
    "\n",
    "#select for unique targets\n",
    "_, uni_tgids = np.unique( zpix_iron[\"TARGETID\"].data, return_index=True )\n",
    "zpix_iron = zpix_iron[uni_tgids]\n",
    "\n"
   ]
  },
  {
   "cell_type": "code",
   "execution_count": null,
   "id": "03317196-eb16-400a-8f60-bf13b0186693",
   "metadata": {},
   "outputs": [],
   "source": []
  },
  {
   "cell_type": "code",
   "execution_count": null,
   "id": "7e0dd73b-4c98-45ad-83de-a8fa59e5219d",
   "metadata": {},
   "outputs": [],
   "source": [
    "\n",
    "gal_types = [\"BGS_BRIGHT\", \"BGS_FAINT\", \"ELG\",\"LOWZ\"]\n",
    "\n",
    "\n",
    "#looping over all the sub-samples!\n",
    "#gal_mask is the boolean array to select the galaxies\n",
    "for i,gal_type in enumerate(gal_types):\n",
    "\n",
    "    if gal_type == \"LOWZ\":\n",
    "        zpix_iron = zpix_iron[zpix_iron[\"PROGRAM\"] == \"dark\"]\n",
    "\n",
    "        #get the lowz survey mask\n",
    "        lowz_main_mask = (zpix_iron[\"SCND_TARGET\"] == 2**15) | (zpix_iron[\"SCND_TARGET\"] == 2**16) | (zpix_iron[\"SCND_TARGET\"] == 2**17)\n",
    "        lowz_sv_mask = np.zeros(len(zpix)).astype(bool)\n",
    "        for svi in range(1,4):\n",
    "            svi_mask = (zpix[f\"SV{svi}_SCND_TARGET\"] == 2**15) | (zpix[f\"SV{svi}_SCND_TARGET\"] == 2**16) | (zpix[f\"SV{svi}_SCND_TARGET\"] == 2**17)\n",
    "            lowz_sv_mask |= svi_mask\n",
    "    \n",
    "        gal_mask = lowz_main_mask | lowz_sv_mask\n",
    "            \n",
    "        \n",
    "    if gal_type == \"BGS_BRIGHT\":\n",
    "        iron_bgs_tgid = zpix_iron[\"BGS_TARGET\"]\n",
    "        bgsb_main_mask = ( (iron_bgs_tgid & bgs_mask[\"BGS_BRIGHT\"]) != 0 )\n",
    "        bgsb_sv_mask = get_sv_bgs_mask(zpix_iron, bgs_class = \"BGS_BRIGHT\")\n",
    "\n",
    "        print(f\"Number of BGS Bright objects in Main survey = {np.sum(bgsb_main_mask)}\")\n",
    "        print(f\"Number of BGS Bright objects in SV survey = {np.sum(bgsb_sv_mask)}\")\n",
    "        \n",
    "        gal_mask = bgsb_main_mask | bgsb_sv_mask\n",
    "        \n",
    "    if gal_type == \"BGS_FAINT\":\n",
    "        iron_bgs_tgid = zpix_iron[\"BGS_TARGET\"]\n",
    "        \n",
    "        bgsf_main_mask = ( (iron_bgs_tgid & bgs_mask[\"BGS_FAINT\"]) != 0 )\n",
    "\n",
    "        bgsf_sv_mask = get_sv_bgs_mask(zpix_iron, bgs_class = \"BGS_FAINT\")\n",
    "\n",
    "        print(f\"Number of BGS Faint objects in Main survey = {np.sum(bgsf_main_mask)}\")\n",
    "        print(f\"Number of BGS Faint objects in SV survey = {np.sum(bgsf_sv_mask)}\")\n",
    "        \n",
    "        gal_mask = bgsf_main_mask | bgsf_sv_mask\n",
    "\n",
    "    if gal_type == \"ELG\":\n",
    "        desi_tgt = zpix_iron[\"DESI_TARGET\"]\n",
    "        elg_main_mask = (desi_tgt & desi_mask[\"ELG\"]) != 0\n",
    "        elg_sv_mask = get_sv_elg_mask(zpix_iron)\n",
    "        gal_mask = elg_main_mask | elg_sv_mask\n",
    "\n",
    "\n"
   ]
  },
  {
   "cell_type": "code",
   "execution_count": null,
   "id": "78d077dc-508b-445c-a0dc-459273bb1175",
   "metadata": {},
   "outputs": [],
   "source": []
  },
  {
   "cell_type": "markdown",
   "id": "1ed86a1a-652f-493b-9876-cc0c5c974c70",
   "metadata": {},
   "source": [
    "The weird issue of trying to select with fastspec catalog"
   ]
  },
  {
   "cell_type": "code",
   "execution_count": 9,
   "id": "f9a055c9-d8af-400e-a9bc-475742063e78",
   "metadata": {},
   "outputs": [],
   "source": [
    "iron_vac = fits.open(\"/global/cfs/cdirs/desi/public/dr1/vac/dr1/fastspecfit/iron/v2.1/catalogs/fastspec-iron.fits\")\n",
    "vac_data_f = iron_vac[2].data\n"
   ]
  },
  {
   "cell_type": "code",
   "execution_count": 10,
   "id": "292745d5-8db7-4bd7-8afa-c86c531076b5",
   "metadata": {},
   "outputs": [
    {
     "name": "stdout",
     "output_type": "stream",
     "text": [
      "16692760\n"
     ]
    }
   ],
   "source": [
    "## METHOD 1\n",
    "\n",
    "sel = (vac_data_f[\"SV1_BGS_TARGET\"] & sv1_targetmask.bgs_mask[\"BGS_BRIGHT\"] != 0)\n",
    "\n",
    "print(len(vac_data_f[sel]))"
   ]
  },
  {
   "cell_type": "code",
   "execution_count": 11,
   "id": "babfd0a2-d8af-49ba-bdaf-6e562a7daa99",
   "metadata": {},
   "outputs": [
    {
     "name": "stdout",
     "output_type": "stream",
     "text": [
      "55283\n"
     ]
    }
   ],
   "source": [
    "## METHOD 2\n",
    "\n",
    "sv1_desi_tgt =vac_data_f['SV1_DESI_TARGET']\n",
    "## first select for SV1 BGS ANY objects\n",
    "sv1_desi_mask = sv1_targetmask.desi_mask\n",
    "sv1_bgs = (sv1_desi_tgt & sv1_desi_mask['BGS_ANY'] != 0)\n",
    "vac_data_sv1 = vac_data_f[sv1_bgs]\n",
    "\n",
    "## then select by bgs bright\n",
    "sv1_bgs_bright = (vac_data_sv1 [\"SV1_BGS_TARGET\"] & sv1_targetmask.bgs_mask['BGS_BRIGHT'] != 0)\n",
    "\n",
    "print(len(vac_data_sv1[sv1_bgs_bright ]))\n",
    "\n"
   ]
  },
  {
   "cell_type": "code",
   "execution_count": null,
   "id": "ac60892f-cc0d-4078-a3a4-31c960037380",
   "metadata": {},
   "outputs": [],
   "source": []
  }
 ],
 "metadata": {
  "kernelspec": {
   "display_name": "DESI main",
   "language": "python",
   "name": "desi-main"
  },
  "language_info": {
   "codemirror_mode": {
    "name": "ipython",
    "version": 3
   },
   "file_extension": ".py",
   "mimetype": "text/x-python",
   "name": "python",
   "nbconvert_exporter": "python",
   "pygments_lexer": "ipython3",
   "version": "3.10.14"
  }
 },
 "nbformat": 4,
 "nbformat_minor": 5
}
