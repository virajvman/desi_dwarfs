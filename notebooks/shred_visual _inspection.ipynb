{
 "cells": [
  {
   "cell_type": "markdown",
   "id": "a331f91a-f37b-4727-8f2d-b7148fa2b941",
   "metadata": {},
   "source": [
    "In this notebook, we do visual inspection to create a training set for our CNN shred classifier!"
   ]
  },
  {
   "cell_type": "code",
   "execution_count": 9,
   "id": "06e02599-c451-4f0d-95d5-d338e2081b02",
   "metadata": {},
   "outputs": [],
   "source": [
    "import pandas as pd\n",
    "from PIL import Image\n",
    "import matplotlib.pyplot as plt\n",
    "import ipywidgets as widgets\n",
    "from IPython.display import display, clear_output\n",
    "from astropy.io import fits\n",
    "from astropy.table import Table\n",
    "import numpy as np\n"
   ]
  },
  {
   "cell_type": "markdown",
   "id": "ac8dfc81-09b0-460d-8296-a0f7649f04c5",
   "metadata": {},
   "source": [
    "Load the dataset!\n",
    "\n",
    "We create a copy of this dataset with only a few columns to avoid over-writing on the original dataset!\n",
    "\n",
    "The only columns we need are RA, DEC, TARGETID, SAMPLE, IMAGE_PATH, FILE_PATH and we will add a column for our labelling!"
   ]
  },
  {
   "cell_type": "code",
   "execution_count": null,
   "id": "bfc70cfb-085c-4e65-b7c1-8f58df4aca2f",
   "metadata": {},
   "outputs": [],
   "source": [
    "# shreds_all = Table.read(\"/pscratch/sd/v/virajvm/catalog_dr1_dwarfs/desi_y1_dwarf_shreds_catalog_v3.fits\")\n",
    "# shreds_all = shreds_all[\"TARGETID\",\"RA\",\"DEC\",\"FILE_PATH\",\"IMAGE_PATH\"]\n",
    "\n",
    "# ##save this folder and we will be updating for this for visual inspection stuff!\n",
    "# all_img_paths = []\n",
    "# for i in range(len(shreds_all)):\n",
    "#     all_img_paths.append( shreds_all[\"FILE_PATH\"][i] + \"/grz_bands_segments.png\")\n",
    "\n",
    "# shreds_all[\"PNG_PATH\"] = all_img_paths\n",
    "\n",
    "# shreds_all.write(\"/pscratch/sd/v/virajvm/catalog_dr1_dwarfs/desi_y1_dwarf_shreds_VI.fits\",overwrite=True)"
   ]
  },
  {
   "cell_type": "code",
   "execution_count": null,
   "id": "effb8437-3e93-41f5-b0f9-f5bb69b5a07d",
   "metadata": {},
   "outputs": [],
   "source": [
    "# ## read the VI catalog \n",
    "# data = Table.read(\"/pscratch/sd/v/virajvm/catalog_dr1_dwarfs/desi_y1_dwarf_shreds_VI.fits\")\n",
    "\n",
    "# np.random.seed(42)\n",
    "\n",
    "# #can we scrambe these row\n",
    "# shuffled_indices = np.random.permutation(len(data))\n",
    "# data_shuffled = data[shuffled_indices]\n",
    "\n",
    "# data_shuffled.write(\"/pscratch/sd/v/virajvm/catalog_dr1_dwarfs/desi_y1_dwarf_shreds_VI_labelled.fits\",overwrite=True)\n",
    "\n"
   ]
  },
  {
   "cell_type": "code",
   "execution_count": 14,
   "id": "5d95f05c-becf-495e-8c94-80706f896054",
   "metadata": {},
   "outputs": [],
   "source": [
    "data = Table.read(\"/pscratch/sd/v/virajvm/catalog_dr1_dwarfs/desi_y1_dwarf_shreds_VI_labelled.fits\")\n",
    "\n",
    "#converting the data to pandas df\n",
    "df = data.to_pandas()"
   ]
  },
  {
   "cell_type": "code",
   "execution_count": 15,
   "id": "10c1a47c-1e83-408f-85d8-86fa6882d1de",
   "metadata": {},
   "outputs": [
    {
     "data": {
      "text/plain": [
       "0        False\n",
       "1        False\n",
       "2        False\n",
       "3        False\n",
       "4        False\n",
       "         ...  \n",
       "53372     True\n",
       "53373     True\n",
       "53374     True\n",
       "53375     True\n",
       "53376     True\n",
       "Name: IS_SHRED_VI, Length: 53377, dtype: bool"
      ]
     },
     "execution_count": 15,
     "metadata": {},
     "output_type": "execute_result"
    }
   ],
   "source": [
    "df[\"IS_SHRED_VI\"] == b'nan'"
   ]
  },
  {
   "cell_type": "code",
   "execution_count": null,
   "id": "a35560e9-37c3-431c-b71c-b0fa09e625f1",
   "metadata": {},
   "outputs": [],
   "source": []
  },
  {
   "cell_type": "code",
   "execution_count": 7,
   "id": "188bf751-4f47-4ce3-bfe7-18c0c6a7baf8",
   "metadata": {},
   "outputs": [],
   "source": [
    "save_path = \"/pscratch/sd/v/virajvm/catalog_dr1_dwarfs/desi_y1_dwarf_shreds_VI_labelled.fits\"\n"
   ]
  },
  {
   "cell_type": "code",
   "execution_count": 8,
   "id": "21fa5f62-8616-4158-9850-3d258a2056be",
   "metadata": {},
   "outputs": [],
   "source": [
    "# # # === Add 'label' column if not present ===\n",
    "# if \"IS_SHRED_VI\" not in df.columns:\n",
    "#     df[\"IS_SHRED_VI\"] = \"\""
   ]
  },
  {
   "cell_type": "code",
   "execution_count": 9,
   "id": "69c1003a-c4c8-4083-9f3d-ea8a6f246ccf",
   "metadata": {},
   "outputs": [
    {
     "name": "stdout",
     "output_type": "stream",
     "text": [
      "1810\n"
     ]
    }
   ],
   "source": [
    "\n",
    "# === Set start index ===\n",
    "# index = df[df[\"IS_SHRED_VI\"] == \"\"].index.min()\n",
    "\n",
    "# if pd.isna(index):\n",
    "#     index = 0\n",
    "\n",
    "# Identify rows that are unprocessed: NaN or empty byte string\n",
    "# unprocessed = df[df[\"IS_SHRED_VI\"].isna() | (df[\"IS_SHRED_VI\"] == b'')]\n",
    "# # Get the first index of unprocessed row\n",
    "# index = unprocessed.index.min()\n",
    "\n",
    "index = df[df[\"IS_SHRED_VI\"] == b'nan'].index.min()\n",
    "\n",
    "print(index)\n",
    "\n",
    "# === Display setup ===\n",
    "image_widget = widgets.Output()\n",
    "label_widget = widgets.Label()\n",
    "next_button = widgets.Button(description=\"Next\")\n",
    "prev_button = widgets.Button(description=\"Prev\")\n",
    "shred_button = widgets.Button(description=\"Fragment\")\n",
    "good_button = widgets.Button(description=\"Good\")\n",
    "\n",
    "# === Save back to FITS ===\n",
    "def save_fits():\n",
    "    df_to_save = df.copy()\n",
    "\n",
    "    # Ensure all object-type columns (usually strings) are cast to fixed-length strings\n",
    "    for col in df_to_save.select_dtypes(include='object').columns:\n",
    "        maxlen = df_to_save[col].astype(str).str.len().max()\n",
    "        df_to_save[col] = df_to_save[col].astype(f'S{maxlen}')\n",
    "\n",
    "    hdu = fits.BinTableHDU.from_columns(fits.ColDefs(df_to_save.to_records(index=False)))\n",
    "    hdu.writeto(save_path, overwrite=True)\n",
    "\n",
    "# === Save label ===\n",
    "def save_label(label):\n",
    "    global index\n",
    "    df.at[index, \"IS_SHRED_VI\"] = label\n",
    "    save_fits()\n",
    "\n",
    "# === Display image ===\n",
    "def resize_image_maintain_aspect(image, target_size=1024):\n",
    "    # Get original dimensions\n",
    "    width, height = image.size\n",
    "    \n",
    "    # Calculate the scaling factor to preserve the aspect ratio\n",
    "    scaling_factor = target_size / max(width, height)\n",
    "    \n",
    "    # Compute the new width and height\n",
    "    new_width = int(width * scaling_factor)\n",
    "    new_height = int(height * scaling_factor)\n",
    "    \n",
    "    # Resize the image (this won't distort it)\n",
    "    resized_img = image.resize((new_width, new_height))\n",
    "\n",
    "    return resized_img\n",
    "    \n",
    "def show_image():\n",
    "    image_widget.clear_output(wait=True)\n",
    "    title = str(df.iloc[index]['PNG_PATH'])\n",
    "    title = title.replace(\"/pscratch/sd/v/virajvm/redo_photometry_plots/all_deshreds/\",\"\")\n",
    "    label_widget.value = f\"{index + 1}/{len(df)}: {title}\"\n",
    "    with image_widget:\n",
    "        try:\n",
    "            img = Image.open(df.iloc[index][\"PNG_PATH\"])\n",
    "            # img = img.resize((256, 256))\n",
    "            plt.figure(figsize = (20,20))\n",
    "            img = resize_image_maintain_aspect(img)\n",
    "            plt.imshow(img)\n",
    "            plt.axis(\"off\")\n",
    "            plt.show()\n",
    "        except Exception as e:\n",
    "            print(f\"Could not load image: {e}\")\n",
    "\n",
    "# === Button Callbacks ===\n",
    "def on_next(b): \n",
    "    global index\n",
    "    if index < len(df) - 1:\n",
    "        index += 1\n",
    "        show_image()\n",
    "\n",
    "def on_prev(b):\n",
    "    global index\n",
    "    if index > 0:\n",
    "        index -= 1\n",
    "        show_image()\n",
    "\n",
    "def on_shred(b):\n",
    "    save_label(\"fragment\")\n",
    "    on_next(b)\n",
    "\n",
    "def on_good(b):\n",
    "    save_label(\"good\")\n",
    "    on_next(b)\n",
    "\n",
    "# === Wire Buttons ===\n",
    "next_button.on_click(on_next)\n",
    "prev_button.on_click(on_prev)\n",
    "shred_button.on_click(on_shred)\n",
    "good_button.on_click(on_good)\n",
    "\n"
   ]
  },
  {
   "cell_type": "code",
   "execution_count": 10,
   "id": "dc8159a7-7c09-41f7-a155-2b8400c2eefb",
   "metadata": {},
   "outputs": [
    {
     "data": {
      "application/vnd.jupyter.widget-view+json": {
       "model_id": "261af9b10c1a4eecab3f5654cc6abb0b",
       "version_major": 2,
       "version_minor": 0
      },
      "text/plain": [
       "Label(value='')"
      ]
     },
     "metadata": {},
     "output_type": "display_data"
    },
    {
     "data": {
      "application/vnd.jupyter.widget-view+json": {
       "model_id": "4d70498e100347f2b433685f6aa78635",
       "version_major": 2,
       "version_minor": 0
      },
      "text/plain": [
       "Output()"
      ]
     },
     "metadata": {},
     "output_type": "display_data"
    },
    {
     "data": {
      "application/vnd.jupyter.widget-view+json": {
       "model_id": "e1eaa6db5c844d79bc536d7fd7d31122",
       "version_major": 2,
       "version_minor": 0
      },
      "text/plain": [
       "HBox(children=(Button(description='Prev', style=ButtonStyle()), Button(description='Next', style=ButtonStyle()…"
      ]
     },
     "metadata": {},
     "output_type": "display_data"
    }
   ],
   "source": [
    "# === Layout ===\n",
    "buttons = widgets.HBox([prev_button, next_button, good_button, shred_button])\n",
    "display(label_widget, image_widget, buttons)\n",
    "\n",
    "# === Start ===\n",
    "show_image()"
   ]
  },
  {
   "cell_type": "markdown",
   "id": "0ea72a1a-1730-4e68-bd23-188721f952b7",
   "metadata": {},
   "source": [
    "1046/53377: b'south/sweep-110p020-120p025/1164p245/BGS_BRIGHT_tgid_39628361462449758/grz_bands_segments.png'\n",
    "-> why is the yellow compact source not identified as a star??\n",
    "\n",
    "\n",
    "1605/53377: b'south/sweep-230p000-240p005/2319p042/BGS_BRIGHT_tgid_39627891255808577/grz_bands_segments.png'\n",
    "\n",
    "\n",
    "1645/53377: b'south/sweep-050m005-060p000/0567m042/BGS_BRIGHT_tgid_39627683042166732/grz_bands_segments.png'\n",
    "\n",
    "\n",
    "1715/53377: b'south/sweep-130m010-140m005/1347m077/ELG_tgid_39627600196274367/grz_bands_segments.png'\n",
    "\n",
    "\n",
    "1897/53377: b'south/sweep-310p005-320p010/3134p057/BGS_BRIGHT_tgid_39627928744495248/grz_bands_segments.png'\n",
    "\n",
    "Maybe one of the reasons is that it was targeted?\n",
    "\n",
    "1074/53377: b'south/sweep-210m005-220p000/2168m025/BGS_BRIGHT_tgid_39627727967355167/grz_bands_segments.png'\n",
    "-> looks like a fragment object and good for apeture, but the source subtraction is too much I think?\n",
    "\n",
    "1118/53377: south/sweep-120p000-130p005/1280p032/ELG_tgid_39627865389534167/grz_bands_segments.png'\n",
    "-> example of object where 2 galaxies look very similar color and so aperture photometry fails ... \n",
    "\n",
    "\n",
    "1131/53377:south/sweep-180m005-190p000/1818m032/ELG_tgid_39627709264959315/grz_bands_segments.png'\n",
    "-> example of ELG source on outskirt of very diffuse large galaxy and so aperture mag pipeline fails"
   ]
  },
  {
   "cell_type": "code",
   "execution_count": null,
   "id": "d1a6bcdd-3cb1-4a84-a115-9f7ac99b1d54",
   "metadata": {},
   "outputs": [],
   "source": []
  },
  {
   "cell_type": "code",
   "execution_count": 21,
   "id": "928d5d2b-b6a7-4194-8fcf-92350011e08b",
   "metadata": {},
   "outputs": [],
   "source": [
    "data = Table.read(\"/pscratch/sd/v/virajvm/catalog_dr1_dwarfs/desi_y1_dwarf_shreds_VI_labelled.fits\")\n",
    "\n",
    "##let us get the corresponding meta data for these objects!\n",
    "data_main = Table.read(\"/pscratch/sd/v/virajvm/catalog_dr1_dwarfs/desi_y1_dwarf_shreds_catalog_v3.fits\")\n",
    "data_main = data_main[\"TARGETID\",\"RA\",\"DEC\", \"MAG_G\",\"MAG_R\",\"MAG_Z\",\"FRACFLUX_G\",\"FRACFLUX_R\",\"FRACFLUX_Z\"]"
   ]
  },
  {
   "cell_type": "code",
   "execution_count": 27,
   "id": "66ff838a-d99e-417b-9a9d-3879f7c628b4",
   "metadata": {},
   "outputs": [
    {
     "data": {
      "text/plain": [
       "0"
      ]
     },
     "execution_count": 27,
     "metadata": {},
     "output_type": "execute_result"
    }
   ],
   "source": [
    "np.min(np.unique(data[\"TARGETID\"]) - np.unique(data_main[\"TARGETID\"]))"
   ]
  },
  {
   "cell_type": "code",
   "execution_count": null,
   "id": "bc2b9e08-3012-4b83-9461-f4cfd4ff8a24",
   "metadata": {},
   "outputs": [],
   "source": [
    "/pscratch/sd/v/virajvm/redo_photometry_plots/all_deshreds/south/sweep-110p020-120p025/1164p245/BGS_BRIGHT_tgid_39628361462449758/"
   ]
  },
  {
   "cell_type": "code",
   "execution_count": null,
   "id": "8efa130c-de18-4e80-bd87-d11a6a280f59",
   "metadata": {},
   "outputs": [],
   "source": []
  },
  {
   "cell_type": "code",
   "execution_count": 111,
   "id": "93565efe-1a32-4d35-9c0e-11c38d57c450",
   "metadata": {},
   "outputs": [],
   "source": [
    "data_training = data[(data[\"IS_SHRED_VI\"] == \"good\") | (data[\"IS_SHRED_VI\"] == \"fragment\")]"
   ]
  },
  {
   "cell_type": "code",
   "execution_count": 132,
   "id": "b9e7900e-f92c-4f74-a033-8a53f4a79456",
   "metadata": {},
   "outputs": [],
   "source": [
    "# import sys\n",
    "# import os\n",
    "# rootdir = '/global/u1/v/virajvm/'\n",
    "# sys.path.append(os.path.join(rootdir, 'DESI2_LOWZ/desi_dwarfs/code'))\n",
    "\n",
    "# from desi_lowz_funcs import match_c_to_catalog\n",
    "\n",
    "# ##I need to cross-match this to get the files file image data!\n",
    "\n",
    "# shreds_all = Table.read(\"/pscratch/sd/v/virajvm/catalog_dr1_dwarfs/desi_y1_dwarf_shreds_catalog_v3.fits\")\n",
    "# temp = shreds_all[\"TARGETID\",\"RA\",\"DEC\",\"IMAGE_PATH\"]\n",
    "\n",
    "# idx, _, _ = match_c_to_catalog(c_cat=data, catalog_cat=temp, c_ra=\"RA\",c_dec=\"DEC\",catalog_ra=\"RA\",catalog_dec=\"DEC\")\n",
    "\n",
    "# print(temp[idx][\"TARGETID\"].data - data[\"TARGETID\"].data)\n",
    "\n",
    "# data[\"IMAGE_PATH\"] = temp[idx][\"IMAGE_PATH\"]\n",
    "\n",
    "# data.write(\"/pscratch/sd/v/virajvm/catalog_dr1_dwarfs/desi_y1_dwarf_shreds_VI_labelled.fits\", overwrite=True )"
   ]
  },
  {
   "cell_type": "code",
   "execution_count": 119,
   "id": "36da1150-ffda-4388-b448-f7ef08a74967",
   "metadata": {},
   "outputs": [],
   "source": []
  },
  {
   "cell_type": "code",
   "execution_count": 123,
   "id": "a06f741a-db92-412b-9efa-d788984d8881",
   "metadata": {},
   "outputs": [],
   "source": []
  },
  {
   "cell_type": "code",
   "execution_count": 10,
   "id": "449e3337-f7fc-4d1d-8125-41d6ee33ac76",
   "metadata": {},
   "outputs": [],
   "source": []
  },
  {
   "cell_type": "code",
   "execution_count": 82,
   "id": "e4d46822-5dfa-41b5-be3f-0db69f63da53",
   "metadata": {},
   "outputs": [],
   "source": [
    "data_main = Table.read(\"/pscratch/sd/v/virajvm/catalog_dr1_dwarfs/desi_y1_dwarf_shreds_catalog_v3.fits\")\n",
    "\n"
   ]
  },
  {
   "cell_type": "code",
   "execution_count": 105,
   "id": "7673d545-263a-4b52-a382-c4fa472abca4",
   "metadata": {},
   "outputs": [
    {
     "data": {
      "text/plain": [
       "0.2443309341382246"
      ]
     },
     "execution_count": 105,
     "metadata": {},
     "output_type": "execute_result"
    }
   ],
   "source": [
    "len(data_main[data_main[\"PCNN_FRAGMENT\"] < 0.3]) / len(data_main)"
   ]
  },
  {
   "cell_type": "code",
   "execution_count": 112,
   "id": "2581dd62-887d-4661-8701-6e8d08468e85",
   "metadata": {},
   "outputs": [],
   "source": [
    "data_cnn_shred = data_main[data_main[\"PCNN_FRAGMENT\"] >= 0.3]\n",
    "data_cnn_clean = data_main[data_main[\"PCNN_FRAGMENT\"] < 0.3]\n"
   ]
  },
  {
   "cell_type": "code",
   "execution_count": null,
   "id": "d2a40c1e-451b-47b9-9ebb-9a6badbf35d1",
   "metadata": {},
   "outputs": [],
   "source": []
  },
  {
   "cell_type": "code",
   "execution_count": null,
   "id": "f12839f5-df8d-408b-bca6-764f810cfb6a",
   "metadata": {},
   "outputs": [],
   "source": []
  },
  {
   "cell_type": "code",
   "execution_count": null,
   "id": "2d018b9a-0e2b-4714-a811-56ac8ca72a23",
   "metadata": {},
   "outputs": [],
   "source": []
  },
  {
   "cell_type": "code",
   "execution_count": null,
   "id": "1e8f3497-bbde-422b-876f-bd5605a35eab",
   "metadata": {},
   "outputs": [],
   "source": []
  }
 ],
 "metadata": {
  "kernelspec": {
   "display_name": "DESI main",
   "language": "python",
   "name": "desi-main"
  },
  "language_info": {
   "codemirror_mode": {
    "name": "ipython",
    "version": 3
   },
   "file_extension": ".py",
   "mimetype": "text/x-python",
   "name": "python",
   "nbconvert_exporter": "python",
   "pygments_lexer": "ipython3",
   "version": "3.10.14"
  }
 },
 "nbformat": 4,
 "nbformat_minor": 5
}
