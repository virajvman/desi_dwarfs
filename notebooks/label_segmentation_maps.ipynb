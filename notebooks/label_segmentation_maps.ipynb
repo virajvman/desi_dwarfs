{
 "cells": [
  {
   "cell_type": "code",
   "execution_count": 9,
   "id": "00c62080-82fb-4ea1-b083-5baf1bc751a2",
   "metadata": {},
   "outputs": [],
   "source": [
    "import numpy as np\n",
    "import matplotlib.pyplot as plt\n",
    "from matplotlib.colors import LogNorm"
   ]
  },
  {
   "cell_type": "code",
   "execution_count": 14,
   "id": "44f45e89-e797-419f-ae63-823a75a322b0",
   "metadata": {},
   "outputs": [],
   "source": [
    "## one idea is to load the tractor model image that has the 144 \n",
    "\n",
    "##simplest thing to do is to take the outputs I already have, that is the final segmented map after \n",
    "##the source has been subtracted and stuff .. \n",
    "## we just do a 1 and 0 labelling as we do not care about the background sources and just sources in the center\n",
    "\n",
    "##what do in the case where we want to remove a source? or add a source?\n",
    "\n",
    "##we might add another plot where we label the center of each source and we so we know if we want\n",
    "#to add or remove a source \n",
    "\n",
    "##and so we if want to add or remove a source, we write down its respective label, \n",
    "##and then we will save those numbers and then after all labelling is done, \n",
    "##we will essentially get those sources models and subtract them and them redo that segmentation plot!!\n"
   ]
  },
  {
   "cell_type": "code",
   "execution_count": null,
   "id": "5d6f1d82-ca3a-4e24-9993-6c9be6f57231",
   "metadata": {},
   "outputs": [],
   "source": []
  },
  {
   "cell_type": "code",
   "execution_count": null,
   "id": "37f92638-8363-483b-bf11-3763a3d11b07",
   "metadata": {},
   "outputs": [],
   "source": []
  },
  {
   "cell_type": "code",
   "execution_count": null,
   "id": "233b06e8-89d6-4eb9-a4d4-5ad4d64e6f22",
   "metadata": {},
   "outputs": [],
   "source": []
  }
 ],
 "metadata": {
  "kernelspec": {
   "display_name": "DESI main",
   "language": "python",
   "name": "desi-main"
  },
  "language_info": {
   "codemirror_mode": {
    "name": "ipython",
    "version": 3
   },
   "file_extension": ".py",
   "mimetype": "text/x-python",
   "name": "python",
   "nbconvert_exporter": "python",
   "pygments_lexer": "ipython3",
   "version": "3.10.14"
  }
 },
 "nbformat": 4,
 "nbformat_minor": 5
}
