{
 "cells": [
  {
   "cell_type": "markdown",
   "id": "a331f91a-f37b-4727-8f2d-b7148fa2b941",
   "metadata": {},
   "source": [
    "In this notebook, we do visual inspection to create a training set for our CNN shred classifier!"
   ]
  },
  {
   "cell_type": "code",
   "execution_count": 15,
   "id": "06e02599-c451-4f0d-95d5-d338e2081b02",
   "metadata": {},
   "outputs": [],
   "source": [
    "import pandas as pd\n",
    "from PIL import Image\n",
    "import matplotlib.pyplot as plt\n",
    "import ipywidgets as widgets\n",
    "from IPython.display import display, clear_output\n",
    "from astropy.io import fits\n",
    "from astropy.table import Table\n",
    "import numpy as np\n"
   ]
  },
  {
   "cell_type": "markdown",
   "id": "ac8dfc81-09b0-460d-8296-a0f7649f04c5",
   "metadata": {},
   "source": [
    "Load the dataset!\n",
    "\n",
    "We create a copy of this dataset with only a few columns to avoid over-writing on the original dataset!\n",
    "\n",
    "The only columns we need are RA, DEC, TARGETID, SAMPLE, IMAGE_PATH, FILE_PATH and we will add a column for our labelling!"
   ]
  },
  {
   "cell_type": "code",
   "execution_count": 2,
   "id": "bfc70cfb-085c-4e65-b7c1-8f58df4aca2f",
   "metadata": {},
   "outputs": [],
   "source": [
    "# shreds_all = Table.read(\"/pscratch/sd/v/virajvm/catalog_dr1_dwarfs/desi_y1_dwarf_shreds_catalog_v3.fits\")\n",
    "# shreds_all = shreds_all[\"TARGETID\",\"RA\",\"DEC\",\"FILE_PATH\",\"IMAGE_PATH\"]\n",
    "\n",
    "# ##save this folder and we will be updating for this for visual inspection stuff!\n",
    "# all_img_paths = []\n",
    "# for i in range(len(shreds_all)):\n",
    "#     all_img_paths.append( shreds_all[\"FILE_PATH\"][i] + \"/grz_bands_segments.png\")\n",
    "\n",
    "# shreds_all[\"PNG_PATH\"] = all_img_paths\n",
    "\n",
    "# shreds_all.write(\"/pscratch/sd/v/virajvm/catalog_dr1_dwarfs/desi_y1_dwarf_shreds_VI.fits\",overwrite=True)"
   ]
  },
  {
   "cell_type": "code",
   "execution_count": 3,
   "id": "effb8437-3e93-41f5-b0f9-f5bb69b5a07d",
   "metadata": {},
   "outputs": [],
   "source": [
    "# ## read the VI catalog \n",
    "# data = Table.read(\"/pscratch/sd/v/virajvm/catalog_dr1_dwarfs/desi_y1_dwarf_shreds_VI.fits\")\n",
    "\n",
    "# np.random.seed(42)\n",
    "\n",
    "# #can we scrambe these row\n",
    "# shuffled_indices = np.random.permutation(len(data))\n",
    "# data_shuffled = data[shuffled_indices]\n",
    "\n",
    "# data_shuffled.write(\"/pscratch/sd/v/virajvm/catalog_dr1_dwarfs/desi_y1_dwarf_shreds_VI_labelled.fits\",overwrite=True)\n",
    "\n"
   ]
  },
  {
   "cell_type": "code",
   "execution_count": 4,
   "id": "23032695-a758-4506-adb7-cfc80fbbba2e",
   "metadata": {},
   "outputs": [],
   "source": [
    "# temp = Table.read(\"/pscratch/sd/v/virajvm/catalog_dr1_dwarfs/iron_photometry/iron_SGA_sga_catalog_w_aper_mags.fits\")\n",
    "# temp = temp[670:]\n",
    "# # near_sga = temp[(temp[\"Z\"] > 0.005) & (temp[\"Z\"] < 0.01)]\n",
    "# # near_sga.write(\"/pscratch/sd/v/virajvm/trash/nsa_bias_paper/sga_other_very_near.fits\")\n",
    "\n",
    "# near_sga = temp[(temp[\"Z\"] > 0.005) & (temp[\"Z\"] < 0.01) & (temp[\"DEBLEND_SMOOTH_NUM_BLOB\"] > 1)]\n",
    "# # \n",
    "# near_sga.write(\"/pscratch/sd/v/virajvm/trash/nsa_bias_paper/sga_other_very_near_more_blobs.fits\")\n"
   ]
  },
  {
   "cell_type": "code",
   "execution_count": 5,
   "id": "0be6ba09-9c56-4c62-be8e-134c6c645719",
   "metadata": {},
   "outputs": [],
   "source": [
    "# temp = Table.read(\"/pscratch/sd/v/virajvm/catalog_dr1_dwarfs/iron_photometry/iron_BGS_BRIGHT_shreds_catalog_w_aper_mags.fits\")\n",
    "# near_bgsb = temp[(temp[\"Z\"] > 0.005) & (temp[\"Z\"] < 0.01) & (temp[\"DEBLEND_SMOOTH_NUM_BLOB\"] > 1)]\n",
    "# near_bgsb.write(\"/pscratch/sd/v/virajvm/trash/nsa_bias_paper/bgsb_other_very_near_more_blobs.fits\")\n"
   ]
  },
  {
   "cell_type": "code",
   "execution_count": 20,
   "id": "0beebea6-0813-4cbc-9bb7-96f51d16a64f",
   "metadata": {},
   "outputs": [
    {
     "name": "stderr",
     "output_type": "stream",
     "text": [
      "WARNING: UnitsWarning: 'nanomaggy' did not parse as fits unit: At col 0, Unit 'nanomaggy' not supported by the FITS standard.  If this is meant to be a custom unit, define it with 'u.def_unit'. To have it recognized inside a file reader or other code, enable it with 'u.add_enabled_units'. For details, see https://docs.astropy.org/en/latest/units/combining_and_defining.html [astropy.units.core]\n"
     ]
    },
    {
     "name": "stdout",
     "output_type": "stream",
     "text": [
      "311\n"
     ]
    }
   ],
   "source": [
    "temp = Table.read(\"/pscratch/sd/v/virajvm/catalog_dr1_dwarfs/iron_photometry/iron_SGA_sga_catalog_w_aper_mags.fits\")\n",
    "near_bgsb = temp[(temp[\"Z\"] > 0.005) & (temp[\"Z\"] < 0.1) & (temp[\"DEBLEND_SMOOTH_NUM_BLOB\"] > 1)]\n",
    "near_bgsb.write(\"/pscratch/sd/v/virajvm/trash/nsa_bias_paper/deblend_num_VI/sga_more_blobs.fits\",overwrite=True)\n",
    "print(len(near_bgsb))"
   ]
  },
  {
   "cell_type": "code",
   "execution_count": 33,
   "id": "663289d3-65c6-4216-887f-1a602b668e5a",
   "metadata": {},
   "outputs": [
    {
     "data": {
      "text/html": [
       "&lt;Column name=&apos;Z&apos; dtype=&apos;float64&apos; length=0&gt;\n",
       "<table>\n",
       "</table>"
      ],
      "text/plain": [
       "<Column name='Z' dtype='float64' length=0>"
      ]
     },
     "execution_count": 33,
     "metadata": {},
     "output_type": "execute_result"
    }
   ],
   "source": [
    "near_bgsb[near_bgsb[\"TARGETID\"] == 39627975099944371][\"Z\"]"
   ]
  },
  {
   "cell_type": "code",
   "execution_count": 21,
   "id": "5d95f05c-becf-495e-8c94-80706f896054",
   "metadata": {},
   "outputs": [],
   "source": [
    "data = Table.read(\"/pscratch/sd/v/virajvm/trash/nsa_bias_paper/deblend_num_VI/sga_more_blobs.fits\")\n",
    "\n",
    "# Keep only scalar columns\n",
    "for colname in list(data.colnames):\n",
    "    if len(data[colname].shape) > 1:\n",
    "        data.remove_column(colname)\n"
   ]
  },
  {
   "cell_type": "code",
   "execution_count": 38,
   "id": "2a11b4eb-879a-4986-a4d7-f5e60e2e1c3f",
   "metadata": {},
   "outputs": [
    {
     "data": {
      "text/html": [
       "<div><i>Table length=1</i>\n",
       "<table id=\"table140637803095344\" class=\"table-striped table-bordered table-condensed\">\n",
       "<thead><tr><th>FILE_PATH</th><th>Z</th></tr></thead>\n",
       "<thead><tr><th>bytes116</th><th>float64</th></tr></thead>\n",
       "<tr><td>/pscratch/sd/v/virajvm/redo_photometry_plots/all_sga/south/sweep-040m005-050p000/0486m027/SGA_tgid_39627719104793033</td><td>0.00604595704492207</td></tr>\n",
       "</table></div>"
      ],
      "text/plain": [
       "<Table length=1>\n",
       "                                                     FILE_PATH                                                       ...\n",
       "                                                      bytes116                                                       ...\n",
       "-------------------------------------------------------------------------------------------------------------------- ...\n",
       "/pscratch/sd/v/virajvm/redo_photometry_plots/all_sga/south/sweep-040m005-050p000/0486m027/SGA_tgid_39627719104793033 ..."
      ]
     },
     "execution_count": 38,
     "metadata": {},
     "output_type": "execute_result"
    }
   ],
   "source": [
    "temp[temp[\"TARGETID\"] == 39627719104793033][\"FILE_PATH\",\"Z\"]"
   ]
  },
  {
   "cell_type": "code",
   "execution_count": 22,
   "id": "3a4caa70-bfc9-4ce1-b63e-29018ddb241e",
   "metadata": {},
   "outputs": [],
   "source": [
    "\n",
    "#converting the data to pandas df\n",
    "df = data.to_pandas()"
   ]
  },
  {
   "cell_type": "code",
   "execution_count": 23,
   "id": "10c1a47c-1e83-408f-85d8-86fa6882d1de",
   "metadata": {},
   "outputs": [],
   "source": [
    "# df[\"IS_SHRED_VI\"] == b'nan'"
   ]
  },
  {
   "cell_type": "code",
   "execution_count": null,
   "id": "a35560e9-37c3-431c-b71c-b0fa09e625f1",
   "metadata": {},
   "outputs": [],
   "source": []
  },
  {
   "cell_type": "code",
   "execution_count": 24,
   "id": "188bf751-4f47-4ce3-bfe7-18c0c6a7baf8",
   "metadata": {},
   "outputs": [],
   "source": [
    "# save_path = \"/pscratch/sd/v/virajvm/trash/nsa_bias_paper/near_deblend_cat_VI_labelled.fits\"\n",
    "# save_path = \"/pscratch/sd/v/virajvm/trash/nsa_bias_paper/sga_other_very_near_labelled.fits\"\n",
    "# save_path = \"/pscratch/sd/v/virajvm/trash/nsa_bias_paper/bgsb_other_very_near_more_blobs_labelled.fits\"\n",
    "# save_path = \"/pscratch/sd/v/virajvm/trash/nsa_bias_paper/elg_other_very_near_more_blobs_labelled.fits\"\n",
    "save_path = \"/pscratch/sd/v/virajvm/trash/nsa_bias_paper/deblend_num_VI/sga_more_blobs_labelled.fits\"\n",
    "\n"
   ]
  },
  {
   "cell_type": "code",
   "execution_count": 25,
   "id": "21fa5f62-8616-4158-9850-3d258a2056be",
   "metadata": {},
   "outputs": [],
   "source": [
    "# # # === Add 'label' column if not present ===\n",
    "if \"IS_SHRED_VI\" not in df.columns:\n",
    "    df[\"IS_SHRED_VI\"] = b\"nan\""
   ]
  },
  {
   "cell_type": "code",
   "execution_count": null,
   "id": "f6b48032-25a6-4426-867e-17b59238dd74",
   "metadata": {},
   "outputs": [],
   "source": []
  },
  {
   "cell_type": "code",
   "execution_count": 26,
   "id": "69c1003a-c4c8-4083-9f3d-ea8a6f246ccf",
   "metadata": {},
   "outputs": [
    {
     "name": "stdout",
     "output_type": "stream",
     "text": [
      "0\n"
     ]
    }
   ],
   "source": [
    "\n",
    "# === Set start index ===\n",
    "# index = df[df[\"IS_SHRED_VI\"] == \"\"].index.min()\n",
    "\n",
    "# if pd.isna(index):\n",
    "#     index = 0\n",
    "\n",
    "# Identify rows that are unprocessed: NaN or empty byte string\n",
    "# unprocessed = df[df[\"IS_SHRED_VI\"].isna() | (df[\"IS_SHRED_VI\"] == b'')]\n",
    "# # Get the first index of unprocessed row\n",
    "# index = unprocessed.index.min()\n",
    "\n",
    "index = df[df[\"IS_SHRED_VI\"] == b'nan'].index.min()\n",
    "\n",
    "print(index)\n",
    "\n",
    "# === Display setup ===\n",
    "image_widget = widgets.Output()\n",
    "label_widget = widgets.Label()\n",
    "next_button = widgets.Button(description=\"Next\")\n",
    "prev_button = widgets.Button(description=\"Prev\")\n",
    "shred_button = widgets.Button(description=\"Over Deblend\")\n",
    "good_button = widgets.Button(description=\"Correct Deblend\")\n",
    "ambi_button = widgets.Button(description=\"Ambiguous Deblend\")\n",
    "\n",
    "# === Save back to FITS ===\n",
    "def save_fits():\n",
    "    df_to_save = df.copy()\n",
    "\n",
    "    # Ensure all object-type columns (usually strings) are cast to fixed-length strings\n",
    "    for col in df_to_save.select_dtypes(include='object').columns:\n",
    "        maxlen = df_to_save[col].astype(str).str.len().max()\n",
    "        df_to_save[col] = df_to_save[col].astype(f'S{maxlen}')\n",
    "\n",
    "    hdu = fits.BinTableHDU.from_columns(fits.ColDefs(df_to_save.to_records(index=False)))\n",
    "    hdu.writeto(save_path, overwrite=True)\n",
    "\n",
    "# === Save label ===\n",
    "def save_label(label):\n",
    "    global index\n",
    "    df.at[index, \"IS_SHRED_VI\"] = label\n",
    "    save_fits()\n",
    "\n",
    "# === Display image ===\n",
    "def resize_image_maintain_aspect(image, target_size=1024):\n",
    "    # Get original dimensions\n",
    "    width, height = image.size\n",
    "    \n",
    "    # Calculate the scaling factor to preserve the aspect ratio\n",
    "    scaling_factor = target_size / max(width, height)\n",
    "    \n",
    "    # Compute the new width and height\n",
    "    new_width = int(width * scaling_factor)\n",
    "    new_height = int(height * scaling_factor)\n",
    "    \n",
    "    # Resize the image (this won't distort it)\n",
    "    resized_img = image.resize((new_width, new_height))\n",
    "\n",
    "    return resized_img\n",
    "\n",
    "\n",
    "def show_image():\n",
    "    image_widget.clear_output(wait=True)\n",
    "    \n",
    "    title = df.iloc[index]['FILE_PATH']\n",
    "    if isinstance(title, bytes):\n",
    "        title = title.decode(\"utf-8\")\n",
    "    title = title.replace(\"/pscratch/sd/v/virajvm/redo_photometry_plots/all_deshreds/\",\"\")\n",
    "    label_widget.value = f\"{index + 1}/{len(df)}: {title}\"\n",
    "\n",
    "    with image_widget:\n",
    "        try:\n",
    "            file_path = df.iloc[index][\"FILE_PATH\"]\n",
    "            if isinstance(file_path, bytes):\n",
    "                file_path = file_path.decode(\"utf-8\")\n",
    "            file_path = file_path + \"/parent_isolate_VI.png\"\n",
    "\n",
    "            img = Image.open(file_path)\n",
    "\n",
    "            # Get image dimensions\n",
    "            width, height = img.size\n",
    "\n",
    "            # Crop to the top half (left, upper, right, lower)\n",
    "            # img = img.crop((0, 0, width, height // 2))\n",
    "\n",
    "            # Optionally resize while preserving aspect ratio\n",
    "            img = resize_image_maintain_aspect(img)\n",
    "\n",
    "            plt.figure(figsize=(10, 10))\n",
    "            plt.imshow(img)\n",
    "            plt.axis(\"off\")\n",
    "            plt.show()\n",
    "        except Exception as e:\n",
    "            print(f\"Could not load image: {e}\")\n",
    "            \n",
    "# def show_image():\n",
    "#     image_widget.clear_output(wait=True)\n",
    "    \n",
    "#     title = str(df.iloc[index]['FILE_PATH'])\n",
    "#     title = title.replace(\"/pscratch/sd/v/virajvm/redo_photometry_plots/all_deshreds/\",\"\")\n",
    "#     label_widget.value = f\"{index + 1}/{len(df)}: {title}\"\n",
    "#     with image_widget:\n",
    "#         try:\n",
    "#             file_path = df.iloc[index][\"FILE_PATH\"].decode(\"utf-8\") + \"/jaccard_smoothing_nlevel_4.png\"\n",
    "#             img = Image.open(file_path)\n",
    "#             # img = img.resize((256, 256))\n",
    "#             plt.figure(figsize = (10,10))\n",
    "#             img = resize_image_maintain_aspect(img)\n",
    "#             plt.imshow(img)\n",
    "#             plt.axis(\"off\")\n",
    "#             plt.show()\n",
    "#         except Exception as e:\n",
    "#             print(f\"Could not load image: {e}\")\n",
    "\n",
    "# === Button Callbacks ===\n",
    "def on_next(b): \n",
    "    global index\n",
    "    if index < len(df) - 1:\n",
    "        index += 1\n",
    "        show_image()\n",
    "\n",
    "def on_prev(b):\n",
    "    global index\n",
    "    if index > 0:\n",
    "        index -= 1\n",
    "        show_image()\n",
    "\n",
    "def on_shred(b):\n",
    "    save_label(\"over_deblend\")\n",
    "    on_next(b)\n",
    "\n",
    "def on_good(b):\n",
    "    save_label(\"correct_deblend\")\n",
    "    on_next(b)\n",
    "\n",
    "def on_ambi(b):\n",
    "    save_label(\"ambi\")\n",
    "    on_next(b)\n",
    "\n",
    "# === Wire Buttons ===\n",
    "next_button.on_click(on_next)\n",
    "prev_button.on_click(on_prev)\n",
    "shred_button.on_click(on_shred)\n",
    "good_button.on_click(on_good)\n",
    "ambi_button.on_click(on_ambi)\n",
    "\n"
   ]
  },
  {
   "cell_type": "code",
   "execution_count": 27,
   "id": "dc8159a7-7c09-41f7-a155-2b8400c2eefb",
   "metadata": {},
   "outputs": [
    {
     "data": {
      "application/vnd.jupyter.widget-view+json": {
       "model_id": "a7bc7779146f4ba2b3956bebbfee5d81",
       "version_major": 2,
       "version_minor": 0
      },
      "text/plain": [
       "Label(value='')"
      ]
     },
     "metadata": {},
     "output_type": "display_data"
    },
    {
     "data": {
      "application/vnd.jupyter.widget-view+json": {
       "model_id": "f887634f9e9441c992d60791a7602808",
       "version_major": 2,
       "version_minor": 0
      },
      "text/plain": [
       "Output()"
      ]
     },
     "metadata": {},
     "output_type": "display_data"
    },
    {
     "data": {
      "application/vnd.jupyter.widget-view+json": {
       "model_id": "4ae1f7fd3138421a98d413fabac78fb1",
       "version_major": 2,
       "version_minor": 0
      },
      "text/plain": [
       "HBox(children=(Button(description='Prev', style=ButtonStyle()), Button(description='Next', style=ButtonStyle()…"
      ]
     },
     "metadata": {},
     "output_type": "display_data"
    }
   ],
   "source": [
    "# === Layout ===\n",
    "buttons = widgets.HBox([prev_button, next_button, good_button, shred_button, ambi_button])\n",
    "display(label_widget, image_widget, buttons)\n",
    "\n",
    "# === Start ===\n",
    "show_image()"
   ]
  },
  {
   "cell_type": "code",
   "execution_count": 151,
   "id": "bef3f8aa-abe9-4d96-95e4-63e6e5c0d3b4",
   "metadata": {},
   "outputs": [],
   "source": [
    "##if there are multiple segments deptected, that is suspicious ... "
   ]
  },
  {
   "cell_type": "code",
   "execution_count": null,
   "id": "7e428ab0-c5e9-4f3d-b685-bbbcf80c78f1",
   "metadata": {},
   "outputs": [],
   "source": [
    "#In parent galaxy no isolte mask, we are masking everything else? are we masking other segments detected?\n",
    "#test eg: 39627719104793033, 39627788461805967\n",
    "\n",
    "#39627832569104126 -> what is pcnn value?\n",
    "\n",
    "\n",
    "FINAL ROUND V1:\n",
    "\n",
    "ambi: \n",
    "39627362790284840, 39627616545671238, 39627630286211900, 39627679732862962, 39627779272087690\n",
    "39627836750824798, 39627869676112539, 39627903159242751, 39627943651055613, 39628001326928392\n",
    "39628006855017657, 39628059313177021, 39628096717983805, 39628262262969837, 39633489556931574\n",
    "\n",
    "39633458183540035, 39628120273193803 -> tricky\n",
    "\n",
    "good examples:\n",
    "39627809970194315,39627928937435852 , 39628298988292113, 39633000891157689, 39627527219582567, 39627637500412066\n",
    "39627695146931165, 39627703095132317, 39627737203215046(!!), 39627999485624747, 39628190250962169 (but not correct split)\n",
    "39628341396898666, 39628462352239336(!!), 39633489556931574(!!)\n",
    "\n",
    "\n",
    "bad:\n",
    "39627738985794993, 39627930246058449, 39628217295837375, 39628287676255394, 39627631133459489, 39627764336165993\n",
    "39627655573673807, 39627670966765053, 39627697114058718, 39627697529294415, 39627736733457794, 39627738985794919\n",
    "39627764336168155, 39627821529697854, 39627826311201348, 39627842522186025, 39627876038876324, 39627938823407009\n",
    "39627947035853189, 39628005500260460, 39628037058201121, 39628055710271155, 39628176778858336, 39628251634605301\n",
    "39628287110025113, 39628302587007883, 39628307825691449, 39628176778858306, 39632970251766642, 39627968951091256\n",
    "\n",
    "overshred:\n",
    "39627444558238904, \n",
    "\n",
    "bad_source:\n",
    "39627809970194315\n",
    "\n",
    "bad tractor model:\n",
    "39627717540316542, 39627806069493510, 39627902874027378, 39628024596922695, 39628199780419265\n",
    "https://www.legacysurvey.org/viewer/?ra=315.2941&dec=-2.9625&layer=ls-dr9-model&zoom=16&mark=315.296138,-2.962615\n",
    "\n",
    "\n",
    "multiple sources but not all being separated: \n",
    "39628286740928450, 39628293305011260, 39627561638039533\n",
    "\n",
    "why star not being blockeed:\n",
    "39627681280565072(BGSB), "
   ]
  },
  {
   "cell_type": "code",
   "execution_count": null,
   "id": "152f5ac9-1e26-4c51-a6b8-5d0ced6a95c4",
   "metadata": {},
   "outputs": [],
   "source": [
    "SGA_tgid_39627977893351426, 39628218696731492, 39628285465856538 -> ambi\n",
    "\n",
    "39627730970483257 > works well at 0.0206 and 21.59\n",
    "\n",
    "39632941042633159 -> but also do not want to apply 21.17 0.0084\n",
    "39628007089901332 -> do want the isolate to be applied (0.00084, 21.15)\n",
    "39627986659446615 -> do not want the isolate to be applied!! (0.0065, 21.20)\n",
    "\n",
    "working well!\n",
    "39627639891166821, \n",
    "39627719104793033, 39627660439064482, 39627636904822110 (low-z and too faint :( ) (but likely not going to pass the cut)\n",
    "39627624837811771\n",
    "\n",
    "\n",
    "bad SGA:\n",
    "39632970251766642, 39633109322303901, 39633489556931574, 39633507017820464, 39627351130112476?, 39627876038876324\n",
    "39627947035853189\n",
    "                                                         \n",
    "lot being masked: 39628183988863007?? seems like one of the bright stars??? why ..\n",
    "\n",
    "39633021107703301 -> how to identify such stars?\n",
    "\n",
    "\n",
    "39633478974704305, 39633478974704360 -> can this be identified as sus? Has some faulty pixels !\n",
    "\n",
    "\n",
    "39633458137402166 -> interesting case of here visually these appear to be dwarfs, but with DESI redshift we see that they\n",
    "are at very different redshifts!\n",
    "\n",
    "A potentially improvement could be to in the final stage, to work in the tractor space and not in the iamge space!!\n",
    "Could test this!!\n",
    "\n"
   ]
  },
  {
   "cell_type": "code",
   "execution_count": 53,
   "id": "c50e9b09-0a47-4a7a-8533-54cf18d49696",
   "metadata": {},
   "outputs": [
    {
     "ename": "SyntaxError",
     "evalue": "invalid syntax (1978844817.py, line 1)",
     "output_type": "error",
     "traceback": [
      "\u001b[0;36m  Cell \u001b[0;32mIn[53], line 1\u001b[0;36m\u001b[0m\n\u001b[0;31m    39627794543543454 -> a merger potentially between two\u001b[0m\n\u001b[0m                      ^\u001b[0m\n\u001b[0;31mSyntaxError\u001b[0m\u001b[0;31m:\u001b[0m invalid syntax\n"
     ]
    }
   ],
   "source": [
    "39627794543543454 -> a merger potentially between two\n",
    "https://www.legacysurvey.org/viewer?ra=226.5412&dec=39.1792&layer=ls-dr10&zoom=16 -> example of source where tractor\n",
    "says is PSF but is not ... \n",
    "39633196354112253, 39633148518073943, 39632976127986972, 39627727711507922, 39627748016133415 -> ambi\n",
    "\n",
    "39627754362113195 => likey correct vbu still ambi\n",
    "587/1440: south/sweep-140p000-150p005/1400p032/BGS_BRIGHT_tgid_39627865590862285\n",
    "539/1440: south/sweep-200p000-210p005/2003p017/BGS_BRIGHT_tgid_39627830367096528\n",
    "671/1440: south/sweep-330p005-340p010/3367p057/BGS_BRIGHT_tgid_39627929134565710\n",
    "37/454: south/sweep-320p005-330p010/3249p090/BGS_BRIGHT_tgid_39628006855017657\n",
    "62/454: south/sweep-250p010-260p015/2587p112/BGS_BRIGHT_tgid_39628059313177021\n",
    "161/454: south/sweep-240p020-250p025/2466p242/BGS_BRIGHT_tgid_39628357943431043\n",
    "175/454: south/sweep-020p025-030p030/0207p265/BGS_BRIGHT_tgid_39628403724257757\n",
    "\n",
    "39628120273193803, 39627731113090233, 39627829683426278 > tough one to do correct hehe \n",
    "\n",
    "I probably should not block all PSF type objects ...\n",
    "\n",
    "289/1440: south/sweep-060m010-070m005/0611m080/BGS_BRIGHT_tgid_39627592982070138 -> why is red not blocked?\n",
    "\n",
    "440/1440: south/sweep-310m005-320p000/3141m017/BGS_BRIGHT_tgid_39627747718338407-> why star not block?\n",
    "49/1440: south/sweep-310m005-320p000/3131m015/BGS_BRIGHT_tgid_39627753741357390 -> why star not block?\n",
    "\n",
    "#in geenral should we mask pixels that have very negative values? 56/1440: south/sweep-170m005-180p000/1708m012/BGS_BRIGHT_tgid_39627757394595015\n",
    "\n",
    "160/454: south/sweep-120p020-130p025/1298p242/BGS_BRIGHT_tgid_39628356152461969 -> ambi\n",
    "\n",
    "186/454: south/sweep-350p025-360p030/3567p272/BGS_BRIGHT_tgid_39628424955824846 -> example of it working well\n",
    "\n",
    "628/1440: south/sweep-230p000-240p005/2377p045/BGS_BRIGHT_tgid_39627897379491294-> what is PCNN here? Can we identify such objects with bad backgrounds?\n",
    "666/1440: south/sweep-130p005-140p010/1339p057/BGS_BRIGHT_tgid_39627925745566685 -> how to remove such objects?\n"
   ]
  },
  {
   "cell_type": "code",
   "execution_count": null,
   "id": "32a41068-2528-4774-8c11-e83730dd587b",
   "metadata": {},
   "outputs": [],
   "source": []
  },
  {
   "cell_type": "code",
   "execution_count": null,
   "id": "d6c86524-00ec-4992-8297-809dc8e7bda6",
   "metadata": {},
   "outputs": [],
   "source": []
  },
  {
   "cell_type": "code",
   "execution_count": null,
   "id": "b25dfdae-a9e5-4b6c-b66b-e2c6d373bdae",
   "metadata": {},
   "outputs": [],
   "source": []
  },
  {
   "cell_type": "code",
   "execution_count": 131,
   "id": "1f752e06-5c9c-46bc-a0d9-801ae5559db2",
   "metadata": {},
   "outputs": [],
   "source": [
    "temp = Table.read(\"/pscratch/sd/v/virajvm/trash/nsa_bias_paper/deblend_more_cat_VI_labelled.fit\")"
   ]
  },
  {
   "cell_type": "code",
   "execution_count": 141,
   "id": "2a4a4976-edaf-48a1-adf2-47aaf7354179",
   "metadata": {},
   "outputs": [],
   "source": [
    "\n",
    "mask = (temp[\"IS_SHRED_VI\"].data != b'nan') #& (temp[\"IS_SHRED_VI\"].data != b'ambi')"
   ]
  },
  {
   "cell_type": "code",
   "execution_count": 142,
   "id": "2d018b9a-0e2b-4714-a811-56ac8ca72a23",
   "metadata": {},
   "outputs": [],
   "source": [
    "temp_v2 = temp[mask]"
   ]
  },
  {
   "cell_type": "code",
   "execution_count": 143,
   "id": "ee9199fb-22bb-4ae8-ac16-60d7463c2ef8",
   "metadata": {},
   "outputs": [
    {
     "data": {
      "text/plain": [
       "678"
      ]
     },
     "execution_count": 143,
     "metadata": {},
     "output_type": "execute_result"
    }
   ],
   "source": [
    "len(temp_v2)"
   ]
  },
  {
   "cell_type": "code",
   "execution_count": 135,
   "id": "1e8f3497-bbde-422b-876f-bd5605a35eab",
   "metadata": {},
   "outputs": [],
   "source": [
    "over_deblend = np.zeros(len(temp_v2))\n",
    "over_deblend[ temp_v2[\"IS_SHRED_VI\"] == b\"over_deblend\" ] = 1"
   ]
  },
  {
   "cell_type": "code",
   "execution_count": 136,
   "id": "9fa9881f-46e3-4859-b409-8ced1cb6c228",
   "metadata": {},
   "outputs": [
    {
     "data": {
      "image/png": "[encoded data removed]",
      "text/plain": [
       "<Figure size 640x480 with 1 Axes>"
      ]
     },
     "metadata": {},
     "output_type": "display_data"
    }
   ],
   "source": [
    "plt.hist(temp_v2[temp_v2[\"IS_SHRED_VI\"] == b\"over_deblend\"][\"Z\"],range=(0.01,0.15),histtype = \"step\",bins=20)\n",
    "plt.hist(temp_v2[temp_v2[\"IS_SHRED_VI\"] != b\"over_deblend\"][\"Z\"], range= (0.01,0.15),histtype = \"step\",bins=20)\n",
    "plt.xlim([0,0.15])\n",
    "plt.show()"
   ]
  },
  {
   "cell_type": "code",
   "execution_count": 137,
   "id": "ed7749d7-9497-4c60-b3cb-754b987af484",
   "metadata": {},
   "outputs": [
    {
     "data": {
      "text/plain": [
       "<matplotlib.collections.PathCollection at 0x7f8443b66c50>"
      ]
     },
     "execution_count": 137,
     "metadata": {},
     "output_type": "execute_result"
    },
    {
     "data": {
      "image/png": "[encoded data removed]",
      "text/plain": [
       "<Figure size 640x480 with 1 Axes>"
      ]
     },
     "metadata": {},
     "output_type": "display_data"
    }
   ],
   "source": [
    "plt.scatter(temp_v2[\"Z\"].data, temp_v2[\"APER_R2_MU_R_SMOOTH\"].data , c= over_deblend,cmap = \"seismic\",vmin=0,vmax=1 )"
   ]
  },
  {
   "cell_type": "code",
   "execution_count": 140,
   "id": "de67d348-d377-401a-b87a-c82a2ed8626f",
   "metadata": {},
   "outputs": [
    {
     "data": {
      "image/png": "[encoded data removed]",
      "text/plain": [
       "<Figure size 700x600 with 2 Axes>"
      ]
     },
     "metadata": {},
     "output_type": "display_data"
    }
   ],
   "source": [
    "import numpy as np\n",
    "import matplotlib.pyplot as plt\n",
    "from scipy.stats import binned_statistic_2d\n",
    "\n",
    "x = temp_v2[\"Z\"].data\n",
    "y = temp_v2[\"APER_R2_MU_R_SMOOTH\"].data\n",
    "z = over_deblend  # 0 or 1\n",
    "\n",
    "# Fraction in each bin = mean of z (since it's 0/1)\n",
    "stat, xedges, yedges, binnumber = binned_statistic_2d(\n",
    "    x, y, z, statistic=\"mean\", bins=[2*9, 2*8], range=[[0.01, 0.1], [20,24]]  # adjust bin numbers as needed\n",
    ")\n",
    "\n",
    "plt.figure(figsize=(7,6))\n",
    "plt.imshow(\n",
    "    stat.T, origin=\"lower\",\n",
    "    extent=[xedges[0], xedges[-1], yedges[0], yedges[-1]],\n",
    "    aspect=\"auto\", cmap=\"Reds\", vmin=0, vmax=1\n",
    ")\n",
    "plt.colorbar(label=\"Fraction with over_deblend = 1\")\n",
    "plt.xlabel(\"Z\")\n",
    "\n",
    "plt.ylabel(\"APER_R2_MU_R_SMOOTH\")\n",
    "plt.show()\n"
   ]
  },
  {
   "cell_type": "code",
   "execution_count": null,
   "id": "41b86118-5219-47b1-87b1-8236f9506f42",
   "metadata": {},
   "outputs": [],
   "source": []
  },
  {
   "cell_type": "code",
   "execution_count": null,
   "id": "a138336a-e31c-4d9d-8343-e0456c2cc1e9",
   "metadata": {},
   "outputs": [],
   "source": []
  },
  {
   "cell_type": "code",
   "execution_count": null,
   "id": "e7cc7d67-4732-44c4-8b07-8b328c60f017",
   "metadata": {},
   "outputs": [],
   "source": []
  },
  {
   "cell_type": "code",
   "execution_count": null,
   "id": "8f48e505-b4bc-4d08-8f62-c52323cc9aec",
   "metadata": {},
   "outputs": [],
   "source": []
  }
 ],
 "metadata": {
  "kernelspec": {
   "display_name": "DESI main",
   "language": "python",
   "name": "desi-main"
  },
  "language_info": {
   "codemirror_mode": {
    "name": "ipython",
    "version": 3
   },
   "file_extension": ".py",
   "mimetype": "text/x-python",
   "name": "python",
   "nbconvert_exporter": "python",
   "pygments_lexer": "ipython3",
   "version": "3.10.14"
  }
 },
 "nbformat": 4,
 "nbformat_minor": 5
}
